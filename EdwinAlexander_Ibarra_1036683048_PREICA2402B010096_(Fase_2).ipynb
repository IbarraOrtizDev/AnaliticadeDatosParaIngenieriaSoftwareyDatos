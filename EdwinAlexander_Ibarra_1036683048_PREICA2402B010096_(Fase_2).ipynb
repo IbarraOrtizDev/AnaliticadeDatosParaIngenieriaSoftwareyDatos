{
  "nbformat": 4,
  "nbformat_minor": 0,
  "metadata": {
    "colab": {
      "provenance": [],
      "machine_shape": "hm"
    },
    "kernelspec": {
      "name": "python3",
      "display_name": "Python 3"
    },
    "language_info": {
      "name": "python"
    }
  },
  "cells": [
    {
      "cell_type": "markdown",
      "source": [
        "\n",
        "![image.png](https://www.iudigital.edu.co/images/11.-IU-DIGITAL.png)\n",
        "<br>\n",
        "<br>\n",
        "#Evidencia de Aprendizaje 2. Procesamiento de datos del Covid-19 en Colombia (Fase 2)\n",
        "<br>\n",
        "<br>\n",
        "\n",
        "### EDWIN ALEXANDER IGUARRA ORTIZ\n",
        "### GRUPO: PREICA2402B010096\n",
        "\n",
        "<br>\n",
        "<br>\n",
        "\n",
        "####IU Digital de Antioquia\n",
        "####Ingeniería de Software y Datos\n",
        "####Analítica de Datos Para Ingeniería Software y Datos\n",
        "####2024\n",
        "\n",
        "\n",
        "---\n",
        "\n"
      ],
      "metadata": {
        "id": "qvZtBgn6Frgi"
      }
    },
    {
      "cell_type": "code",
      "execution_count": null,
      "metadata": {
        "id": "f_7g97DuGI26"
      },
      "outputs": [],
      "source": [
        "import numpy as np\n",
        "import pandas as pd\n",
        "import matplotlib.pyplot as plt\n",
        "import seaborn as sns"
      ]
    },
    {
      "cell_type": "code",
      "source": [
        "# Carga los datos desde el sitio webLinks to an external site. que te sugerimos\n",
        "data = pd.read_csv('https://www.datos.gov.co/api/views/gt2j-8ykr/rows.csv?accessType=DOWNLOAD&bom=true&format=true')"
      ],
      "metadata": {
        "colab": {
          "base_uri": "https://localhost:8080/"
        },
        "id": "8H5pY9C6GnqK",
        "outputId": "98fa9795-40bc-4afe-ebe4-321b89bbf6fa"
      },
      "execution_count": null,
      "outputs": [
        {
          "output_type": "stream",
          "name": "stderr",
          "text": [
            "<ipython-input-4-96a573b66d1a>:2: DtypeWarning: Columns (13,14) have mixed types. Specify dtype option on import or set low_memory=False.\n",
            "  data = pd.read_csv('https://www.datos.gov.co/api/views/gt2j-8ykr/rows.csv?accessType=DOWNLOAD&bom=true&format=true')\n"
          ]
        }
      ]
    },
    {
      "cell_type": "code",
      "source": [
        "data.info()"
      ],
      "metadata": {
        "colab": {
          "base_uri": "https://localhost:8080/"
        },
        "id": "vU_2maIaH6S6",
        "outputId": "4d6bbdfa-de44-4a64-c9f3-72239362e2b3"
      },
      "execution_count": null,
      "outputs": [
        {
          "output_type": "stream",
          "name": "stdout",
          "text": [
            "<class 'pandas.core.frame.DataFrame'>\n",
            "RangeIndex: 6390971 entries, 0 to 6390970\n",
            "Data columns (total 23 columns):\n",
            " #   Column                        Dtype  \n",
            "---  ------                        -----  \n",
            " 0   fecha reporte web             object \n",
            " 1   ID de caso                    object \n",
            " 2   Fecha de notificación         object \n",
            " 3   Código DIVIPOLA departamento  object \n",
            " 4   Nombre departamento           object \n",
            " 5   Código DIVIPOLA municipio     object \n",
            " 6   Nombre municipio              object \n",
            " 7   Edad                          int64  \n",
            " 8   Unidad de medida de edad      int64  \n",
            " 9   Sexo                          object \n",
            " 10  Tipo de contagio              object \n",
            " 11  Ubicación del caso            object \n",
            " 12  Estado                        object \n",
            " 13  Código ISO del país           object \n",
            " 14  Nombre del país               object \n",
            " 15  Recuperado                    object \n",
            " 16  Fecha de inicio de síntomas   object \n",
            " 17  Fecha de muerte               object \n",
            " 18  Fecha de diagnóstico          object \n",
            " 19  Fecha de recuperación         object \n",
            " 20  Tipo de recuperación          object \n",
            " 21  Pertenencia étnica            float64\n",
            " 22  Nombre del grupo étnico       object \n",
            "dtypes: float64(1), int64(2), object(20)\n",
            "memory usage: 1.1+ GB\n"
          ]
        }
      ]
    },
    {
      "cell_type": "code",
      "source": [
        "data.columns = ['fecha_reporte_web', 'id_de_caso', 'fecha_de_notificacion',\n",
        "       'codigo_divipola_departamento', 'nombre_departamento',\n",
        "       'codigo_divipola_municipio', 'nombre_municipio', 'edad',\n",
        "       'unidad_de_medida_de_edad', 'sexo', 'tipo_de_contagio',\n",
        "       'ubicacion_del_caso', 'estado', 'codigo_iso_de_pais',\n",
        "       'nombre_del_pais', 'recuperado', 'fecha_de_inicio_de_sintomas',\n",
        "       'fecha_de_muerte', 'fecha_de_diagnostico', 'fecha_de_recuperacion',\n",
        "       'tipo_de_recuperacion', 'pertenencia_etnica',\n",
        "       'nombre_del_grupo_etnico']"
      ],
      "metadata": {
        "id": "ofYS6h2OG-kA"
      },
      "execution_count": null,
      "outputs": []
    },
    {
      "cell_type": "code",
      "source": [
        "data.head()"
      ],
      "metadata": {
        "colab": {
          "base_uri": "https://localhost:8080/",
          "height": 361
        },
        "id": "PboM7dyKKQ3D",
        "outputId": "59b95a87-d66f-4c95-8259-617d6217b306"
      },
      "execution_count": null,
      "outputs": [
        {
          "output_type": "execute_result",
          "data": {
            "text/plain": [
              "     fecha_reporte_web id_de_caso fecha_de_notificacion  \\\n",
              "0  2020-12-24 00:00:00  1,556,979   2020-12-22 00:00:00   \n",
              "1  2020-12-24 00:00:00  1,556,980   2020-12-19 00:00:00   \n",
              "2  2020-12-24 00:00:00  1,556,981   2020-12-19 00:00:00   \n",
              "3  2020-12-24 00:00:00  1,556,982   2020-12-22 00:00:00   \n",
              "4  2020-12-24 00:00:00  1,556,983   2020-12-22 00:00:00   \n",
              "\n",
              "  codigo_divipola_departamento nombre_departamento codigo_divipola_municipio  \\\n",
              "0                           76               VALLE                    76,001   \n",
              "1                           76               VALLE                    76,001   \n",
              "2                           76               VALLE                    76,001   \n",
              "3                           76               VALLE                    76,001   \n",
              "4                           76               VALLE                    76,001   \n",
              "\n",
              "  nombre_municipio  edad  unidad_de_medida_de_edad sexo  ...  \\\n",
              "0             CALI    67                         1    F  ...   \n",
              "1             CALI    66                         1    F  ...   \n",
              "2             CALI    68                         1    F  ...   \n",
              "3             CALI    74                         1    F  ...   \n",
              "4             CALI    65                         1    F  ...   \n",
              "\n",
              "  codigo_iso_de_pais nombre_del_pais  recuperado fecha_de_inicio_de_sintomas  \\\n",
              "0                NaN             NaN  Recuperado         2020-12-21 00:00:00   \n",
              "1                NaN             NaN  Recuperado         2020-12-07 00:00:00   \n",
              "2                NaN             NaN  Recuperado         2020-12-18 00:00:00   \n",
              "3                NaN             NaN   Fallecido         2020-12-17 00:00:00   \n",
              "4                NaN             NaN  Recuperado         2020-12-21 00:00:00   \n",
              "\n",
              "       fecha_de_muerte fecha_de_diagnostico fecha_de_recuperacion  \\\n",
              "0                  NaN  2020-12-23 00:00:00   2021-01-04 00:00:00   \n",
              "1                  NaN  2020-12-23 00:00:00   2020-12-25 00:00:00   \n",
              "2                  NaN  2020-12-22 00:00:00   2021-01-01 00:00:00   \n",
              "3  2020-12-30 00:00:00  2020-12-23 00:00:00                   NaN   \n",
              "4                  NaN  2020-12-23 00:00:00   2021-01-04 00:00:00   \n",
              "\n",
              "  tipo_de_recuperacion pertenencia_etnica nombre_del_grupo_etnico  \n",
              "0               Tiempo                6.0                     NaN  \n",
              "1               Tiempo                6.0                     NaN  \n",
              "2               Tiempo                6.0                     NaN  \n",
              "3                  NaN                6.0                     NaN  \n",
              "4               Tiempo                6.0                     NaN  \n",
              "\n",
              "[5 rows x 23 columns]"
            ],
            "text/html": [
              "\n",
              "  <div id=\"df-9b418b60-59c4-4a49-8113-cc18347d399d\" class=\"colab-df-container\">\n",
              "    <div>\n",
              "<style scoped>\n",
              "    .dataframe tbody tr th:only-of-type {\n",
              "        vertical-align: middle;\n",
              "    }\n",
              "\n",
              "    .dataframe tbody tr th {\n",
              "        vertical-align: top;\n",
              "    }\n",
              "\n",
              "    .dataframe thead th {\n",
              "        text-align: right;\n",
              "    }\n",
              "</style>\n",
              "<table border=\"1\" class=\"dataframe\">\n",
              "  <thead>\n",
              "    <tr style=\"text-align: right;\">\n",
              "      <th></th>\n",
              "      <th>fecha_reporte_web</th>\n",
              "      <th>id_de_caso</th>\n",
              "      <th>fecha_de_notificacion</th>\n",
              "      <th>codigo_divipola_departamento</th>\n",
              "      <th>nombre_departamento</th>\n",
              "      <th>codigo_divipola_municipio</th>\n",
              "      <th>nombre_municipio</th>\n",
              "      <th>edad</th>\n",
              "      <th>unidad_de_medida_de_edad</th>\n",
              "      <th>sexo</th>\n",
              "      <th>...</th>\n",
              "      <th>codigo_iso_de_pais</th>\n",
              "      <th>nombre_del_pais</th>\n",
              "      <th>recuperado</th>\n",
              "      <th>fecha_de_inicio_de_sintomas</th>\n",
              "      <th>fecha_de_muerte</th>\n",
              "      <th>fecha_de_diagnostico</th>\n",
              "      <th>fecha_de_recuperacion</th>\n",
              "      <th>tipo_de_recuperacion</th>\n",
              "      <th>pertenencia_etnica</th>\n",
              "      <th>nombre_del_grupo_etnico</th>\n",
              "    </tr>\n",
              "  </thead>\n",
              "  <tbody>\n",
              "    <tr>\n",
              "      <th>0</th>\n",
              "      <td>2020-12-24 00:00:00</td>\n",
              "      <td>1,556,979</td>\n",
              "      <td>2020-12-22 00:00:00</td>\n",
              "      <td>76</td>\n",
              "      <td>VALLE</td>\n",
              "      <td>76,001</td>\n",
              "      <td>CALI</td>\n",
              "      <td>67</td>\n",
              "      <td>1</td>\n",
              "      <td>F</td>\n",
              "      <td>...</td>\n",
              "      <td>NaN</td>\n",
              "      <td>NaN</td>\n",
              "      <td>Recuperado</td>\n",
              "      <td>2020-12-21 00:00:00</td>\n",
              "      <td>NaN</td>\n",
              "      <td>2020-12-23 00:00:00</td>\n",
              "      <td>2021-01-04 00:00:00</td>\n",
              "      <td>Tiempo</td>\n",
              "      <td>6.0</td>\n",
              "      <td>NaN</td>\n",
              "    </tr>\n",
              "    <tr>\n",
              "      <th>1</th>\n",
              "      <td>2020-12-24 00:00:00</td>\n",
              "      <td>1,556,980</td>\n",
              "      <td>2020-12-19 00:00:00</td>\n",
              "      <td>76</td>\n",
              "      <td>VALLE</td>\n",
              "      <td>76,001</td>\n",
              "      <td>CALI</td>\n",
              "      <td>66</td>\n",
              "      <td>1</td>\n",
              "      <td>F</td>\n",
              "      <td>...</td>\n",
              "      <td>NaN</td>\n",
              "      <td>NaN</td>\n",
              "      <td>Recuperado</td>\n",
              "      <td>2020-12-07 00:00:00</td>\n",
              "      <td>NaN</td>\n",
              "      <td>2020-12-23 00:00:00</td>\n",
              "      <td>2020-12-25 00:00:00</td>\n",
              "      <td>Tiempo</td>\n",
              "      <td>6.0</td>\n",
              "      <td>NaN</td>\n",
              "    </tr>\n",
              "    <tr>\n",
              "      <th>2</th>\n",
              "      <td>2020-12-24 00:00:00</td>\n",
              "      <td>1,556,981</td>\n",
              "      <td>2020-12-19 00:00:00</td>\n",
              "      <td>76</td>\n",
              "      <td>VALLE</td>\n",
              "      <td>76,001</td>\n",
              "      <td>CALI</td>\n",
              "      <td>68</td>\n",
              "      <td>1</td>\n",
              "      <td>F</td>\n",
              "      <td>...</td>\n",
              "      <td>NaN</td>\n",
              "      <td>NaN</td>\n",
              "      <td>Recuperado</td>\n",
              "      <td>2020-12-18 00:00:00</td>\n",
              "      <td>NaN</td>\n",
              "      <td>2020-12-22 00:00:00</td>\n",
              "      <td>2021-01-01 00:00:00</td>\n",
              "      <td>Tiempo</td>\n",
              "      <td>6.0</td>\n",
              "      <td>NaN</td>\n",
              "    </tr>\n",
              "    <tr>\n",
              "      <th>3</th>\n",
              "      <td>2020-12-24 00:00:00</td>\n",
              "      <td>1,556,982</td>\n",
              "      <td>2020-12-22 00:00:00</td>\n",
              "      <td>76</td>\n",
              "      <td>VALLE</td>\n",
              "      <td>76,001</td>\n",
              "      <td>CALI</td>\n",
              "      <td>74</td>\n",
              "      <td>1</td>\n",
              "      <td>F</td>\n",
              "      <td>...</td>\n",
              "      <td>NaN</td>\n",
              "      <td>NaN</td>\n",
              "      <td>Fallecido</td>\n",
              "      <td>2020-12-17 00:00:00</td>\n",
              "      <td>2020-12-30 00:00:00</td>\n",
              "      <td>2020-12-23 00:00:00</td>\n",
              "      <td>NaN</td>\n",
              "      <td>NaN</td>\n",
              "      <td>6.0</td>\n",
              "      <td>NaN</td>\n",
              "    </tr>\n",
              "    <tr>\n",
              "      <th>4</th>\n",
              "      <td>2020-12-24 00:00:00</td>\n",
              "      <td>1,556,983</td>\n",
              "      <td>2020-12-22 00:00:00</td>\n",
              "      <td>76</td>\n",
              "      <td>VALLE</td>\n",
              "      <td>76,001</td>\n",
              "      <td>CALI</td>\n",
              "      <td>65</td>\n",
              "      <td>1</td>\n",
              "      <td>F</td>\n",
              "      <td>...</td>\n",
              "      <td>NaN</td>\n",
              "      <td>NaN</td>\n",
              "      <td>Recuperado</td>\n",
              "      <td>2020-12-21 00:00:00</td>\n",
              "      <td>NaN</td>\n",
              "      <td>2020-12-23 00:00:00</td>\n",
              "      <td>2021-01-04 00:00:00</td>\n",
              "      <td>Tiempo</td>\n",
              "      <td>6.0</td>\n",
              "      <td>NaN</td>\n",
              "    </tr>\n",
              "  </tbody>\n",
              "</table>\n",
              "<p>5 rows × 23 columns</p>\n",
              "</div>\n",
              "    <div class=\"colab-df-buttons\">\n",
              "\n",
              "  <div class=\"colab-df-container\">\n",
              "    <button class=\"colab-df-convert\" onclick=\"convertToInteractive('df-9b418b60-59c4-4a49-8113-cc18347d399d')\"\n",
              "            title=\"Convert this dataframe to an interactive table.\"\n",
              "            style=\"display:none;\">\n",
              "\n",
              "  <svg xmlns=\"http://www.w3.org/2000/svg\" height=\"24px\" viewBox=\"0 -960 960 960\">\n",
              "    <path d=\"M120-120v-720h720v720H120Zm60-500h600v-160H180v160Zm220 220h160v-160H400v160Zm0 220h160v-160H400v160ZM180-400h160v-160H180v160Zm440 0h160v-160H620v160ZM180-180h160v-160H180v160Zm440 0h160v-160H620v160Z\"/>\n",
              "  </svg>\n",
              "    </button>\n",
              "\n",
              "  <style>\n",
              "    .colab-df-container {\n",
              "      display:flex;\n",
              "      gap: 12px;\n",
              "    }\n",
              "\n",
              "    .colab-df-convert {\n",
              "      background-color: #E8F0FE;\n",
              "      border: none;\n",
              "      border-radius: 50%;\n",
              "      cursor: pointer;\n",
              "      display: none;\n",
              "      fill: #1967D2;\n",
              "      height: 32px;\n",
              "      padding: 0 0 0 0;\n",
              "      width: 32px;\n",
              "    }\n",
              "\n",
              "    .colab-df-convert:hover {\n",
              "      background-color: #E2EBFA;\n",
              "      box-shadow: 0px 1px 2px rgba(60, 64, 67, 0.3), 0px 1px 3px 1px rgba(60, 64, 67, 0.15);\n",
              "      fill: #174EA6;\n",
              "    }\n",
              "\n",
              "    .colab-df-buttons div {\n",
              "      margin-bottom: 4px;\n",
              "    }\n",
              "\n",
              "    [theme=dark] .colab-df-convert {\n",
              "      background-color: #3B4455;\n",
              "      fill: #D2E3FC;\n",
              "    }\n",
              "\n",
              "    [theme=dark] .colab-df-convert:hover {\n",
              "      background-color: #434B5C;\n",
              "      box-shadow: 0px 1px 3px 1px rgba(0, 0, 0, 0.15);\n",
              "      filter: drop-shadow(0px 1px 2px rgba(0, 0, 0, 0.3));\n",
              "      fill: #FFFFFF;\n",
              "    }\n",
              "  </style>\n",
              "\n",
              "    <script>\n",
              "      const buttonEl =\n",
              "        document.querySelector('#df-9b418b60-59c4-4a49-8113-cc18347d399d button.colab-df-convert');\n",
              "      buttonEl.style.display =\n",
              "        google.colab.kernel.accessAllowed ? 'block' : 'none';\n",
              "\n",
              "      async function convertToInteractive(key) {\n",
              "        const element = document.querySelector('#df-9b418b60-59c4-4a49-8113-cc18347d399d');\n",
              "        const dataTable =\n",
              "          await google.colab.kernel.invokeFunction('convertToInteractive',\n",
              "                                                    [key], {});\n",
              "        if (!dataTable) return;\n",
              "\n",
              "        const docLinkHtml = 'Like what you see? Visit the ' +\n",
              "          '<a target=\"_blank\" href=https://colab.research.google.com/notebooks/data_table.ipynb>data table notebook</a>'\n",
              "          + ' to learn more about interactive tables.';\n",
              "        element.innerHTML = '';\n",
              "        dataTable['output_type'] = 'display_data';\n",
              "        await google.colab.output.renderOutput(dataTable, element);\n",
              "        const docLink = document.createElement('div');\n",
              "        docLink.innerHTML = docLinkHtml;\n",
              "        element.appendChild(docLink);\n",
              "      }\n",
              "    </script>\n",
              "  </div>\n",
              "\n",
              "\n",
              "<div id=\"df-634f5a47-df6e-4418-86c1-b720a8a28204\">\n",
              "  <button class=\"colab-df-quickchart\" onclick=\"quickchart('df-634f5a47-df6e-4418-86c1-b720a8a28204')\"\n",
              "            title=\"Suggest charts\"\n",
              "            style=\"display:none;\">\n",
              "\n",
              "<svg xmlns=\"http://www.w3.org/2000/svg\" height=\"24px\"viewBox=\"0 0 24 24\"\n",
              "     width=\"24px\">\n",
              "    <g>\n",
              "        <path d=\"M19 3H5c-1.1 0-2 .9-2 2v14c0 1.1.9 2 2 2h14c1.1 0 2-.9 2-2V5c0-1.1-.9-2-2-2zM9 17H7v-7h2v7zm4 0h-2V7h2v10zm4 0h-2v-4h2v4z\"/>\n",
              "    </g>\n",
              "</svg>\n",
              "  </button>\n",
              "\n",
              "<style>\n",
              "  .colab-df-quickchart {\n",
              "      --bg-color: #E8F0FE;\n",
              "      --fill-color: #1967D2;\n",
              "      --hover-bg-color: #E2EBFA;\n",
              "      --hover-fill-color: #174EA6;\n",
              "      --disabled-fill-color: #AAA;\n",
              "      --disabled-bg-color: #DDD;\n",
              "  }\n",
              "\n",
              "  [theme=dark] .colab-df-quickchart {\n",
              "      --bg-color: #3B4455;\n",
              "      --fill-color: #D2E3FC;\n",
              "      --hover-bg-color: #434B5C;\n",
              "      --hover-fill-color: #FFFFFF;\n",
              "      --disabled-bg-color: #3B4455;\n",
              "      --disabled-fill-color: #666;\n",
              "  }\n",
              "\n",
              "  .colab-df-quickchart {\n",
              "    background-color: var(--bg-color);\n",
              "    border: none;\n",
              "    border-radius: 50%;\n",
              "    cursor: pointer;\n",
              "    display: none;\n",
              "    fill: var(--fill-color);\n",
              "    height: 32px;\n",
              "    padding: 0;\n",
              "    width: 32px;\n",
              "  }\n",
              "\n",
              "  .colab-df-quickchart:hover {\n",
              "    background-color: var(--hover-bg-color);\n",
              "    box-shadow: 0 1px 2px rgba(60, 64, 67, 0.3), 0 1px 3px 1px rgba(60, 64, 67, 0.15);\n",
              "    fill: var(--button-hover-fill-color);\n",
              "  }\n",
              "\n",
              "  .colab-df-quickchart-complete:disabled,\n",
              "  .colab-df-quickchart-complete:disabled:hover {\n",
              "    background-color: var(--disabled-bg-color);\n",
              "    fill: var(--disabled-fill-color);\n",
              "    box-shadow: none;\n",
              "  }\n",
              "\n",
              "  .colab-df-spinner {\n",
              "    border: 2px solid var(--fill-color);\n",
              "    border-color: transparent;\n",
              "    border-bottom-color: var(--fill-color);\n",
              "    animation:\n",
              "      spin 1s steps(1) infinite;\n",
              "  }\n",
              "\n",
              "  @keyframes spin {\n",
              "    0% {\n",
              "      border-color: transparent;\n",
              "      border-bottom-color: var(--fill-color);\n",
              "      border-left-color: var(--fill-color);\n",
              "    }\n",
              "    20% {\n",
              "      border-color: transparent;\n",
              "      border-left-color: var(--fill-color);\n",
              "      border-top-color: var(--fill-color);\n",
              "    }\n",
              "    30% {\n",
              "      border-color: transparent;\n",
              "      border-left-color: var(--fill-color);\n",
              "      border-top-color: var(--fill-color);\n",
              "      border-right-color: var(--fill-color);\n",
              "    }\n",
              "    40% {\n",
              "      border-color: transparent;\n",
              "      border-right-color: var(--fill-color);\n",
              "      border-top-color: var(--fill-color);\n",
              "    }\n",
              "    60% {\n",
              "      border-color: transparent;\n",
              "      border-right-color: var(--fill-color);\n",
              "    }\n",
              "    80% {\n",
              "      border-color: transparent;\n",
              "      border-right-color: var(--fill-color);\n",
              "      border-bottom-color: var(--fill-color);\n",
              "    }\n",
              "    90% {\n",
              "      border-color: transparent;\n",
              "      border-bottom-color: var(--fill-color);\n",
              "    }\n",
              "  }\n",
              "</style>\n",
              "\n",
              "  <script>\n",
              "    async function quickchart(key) {\n",
              "      const quickchartButtonEl =\n",
              "        document.querySelector('#' + key + ' button');\n",
              "      quickchartButtonEl.disabled = true;  // To prevent multiple clicks.\n",
              "      quickchartButtonEl.classList.add('colab-df-spinner');\n",
              "      try {\n",
              "        const charts = await google.colab.kernel.invokeFunction(\n",
              "            'suggestCharts', [key], {});\n",
              "      } catch (error) {\n",
              "        console.error('Error during call to suggestCharts:', error);\n",
              "      }\n",
              "      quickchartButtonEl.classList.remove('colab-df-spinner');\n",
              "      quickchartButtonEl.classList.add('colab-df-quickchart-complete');\n",
              "    }\n",
              "    (() => {\n",
              "      let quickchartButtonEl =\n",
              "        document.querySelector('#df-634f5a47-df6e-4418-86c1-b720a8a28204 button');\n",
              "      quickchartButtonEl.style.display =\n",
              "        google.colab.kernel.accessAllowed ? 'block' : 'none';\n",
              "    })();\n",
              "  </script>\n",
              "</div>\n",
              "\n",
              "    </div>\n",
              "  </div>\n"
            ],
            "application/vnd.google.colaboratory.intrinsic+json": {
              "type": "dataframe",
              "variable_name": "data"
            }
          },
          "metadata": {},
          "execution_count": 12
        },
        {
          "output_type": "stream",
          "name": "stdout",
          "text": [
            "Warning: Total number of columns (23) exceeds max_columns (20) limiting to first (20) columns.\n"
          ]
        }
      ]
    },
    {
      "cell_type": "markdown",
      "source": [
        "## Ejercicio 1. Limpieza de datos (data cleaning)"
      ],
      "metadata": {
        "id": "AbM3JC1-HHhD"
      }
    },
    {
      "cell_type": "markdown",
      "source": [
        "### Utiliza value_counts(dropna=False), para visualizar las siguientes variables: Estado, Atención, Sexo, Tipo, País_procedencia, Tipo_recuperación, Pertenencia_étnica, Nombre_grupo_étnico. (5 puntos)."
      ],
      "metadata": {
        "id": "1auxdWCkHRhd"
      }
    },
    {
      "cell_type": "code",
      "source": [
        "# Estado\n",
        "data.estado.value_counts(dropna=False)"
      ],
      "metadata": {
        "colab": {
          "base_uri": "https://localhost:8080/",
          "height": 335
        },
        "id": "bIjRmWBhIQw6",
        "outputId": "cb1a31a7-f0c1-45f6-a022-5456563b20be"
      },
      "execution_count": null,
      "outputs": [
        {
          "output_type": "execute_result",
          "data": {
            "text/plain": [
              "estado\n",
              "Leve         6154791\n",
              "Fallecido     143125\n",
              "leve           50623\n",
              "NaN            41268\n",
              "Moderado        1056\n",
              "Grave            106\n",
              "LEVE               2\n",
              "Name: count, dtype: int64"
            ],
            "text/html": [
              "<div>\n",
              "<style scoped>\n",
              "    .dataframe tbody tr th:only-of-type {\n",
              "        vertical-align: middle;\n",
              "    }\n",
              "\n",
              "    .dataframe tbody tr th {\n",
              "        vertical-align: top;\n",
              "    }\n",
              "\n",
              "    .dataframe thead th {\n",
              "        text-align: right;\n",
              "    }\n",
              "</style>\n",
              "<table border=\"1\" class=\"dataframe\">\n",
              "  <thead>\n",
              "    <tr style=\"text-align: right;\">\n",
              "      <th></th>\n",
              "      <th>count</th>\n",
              "    </tr>\n",
              "    <tr>\n",
              "      <th>estado</th>\n",
              "      <th></th>\n",
              "    </tr>\n",
              "  </thead>\n",
              "  <tbody>\n",
              "    <tr>\n",
              "      <th>Leve</th>\n",
              "      <td>6154791</td>\n",
              "    </tr>\n",
              "    <tr>\n",
              "      <th>Fallecido</th>\n",
              "      <td>143125</td>\n",
              "    </tr>\n",
              "    <tr>\n",
              "      <th>leve</th>\n",
              "      <td>50623</td>\n",
              "    </tr>\n",
              "    <tr>\n",
              "      <th>NaN</th>\n",
              "      <td>41268</td>\n",
              "    </tr>\n",
              "    <tr>\n",
              "      <th>Moderado</th>\n",
              "      <td>1056</td>\n",
              "    </tr>\n",
              "    <tr>\n",
              "      <th>Grave</th>\n",
              "      <td>106</td>\n",
              "    </tr>\n",
              "    <tr>\n",
              "      <th>LEVE</th>\n",
              "      <td>2</td>\n",
              "    </tr>\n",
              "  </tbody>\n",
              "</table>\n",
              "</div><br><label><b>dtype:</b> int64</label>"
            ]
          },
          "metadata": {},
          "execution_count": 20
        }
      ]
    },
    {
      "cell_type": "code",
      "source": [
        "# Sexo\n",
        "data.sexo.value_counts(dropna=False)"
      ],
      "metadata": {
        "colab": {
          "base_uri": "https://localhost:8080/",
          "height": 241
        },
        "id": "h6U2o0lCIW-D",
        "outputId": "15835238-95b4-45a5-8eb1-ec09140b761e"
      },
      "execution_count": null,
      "outputs": [
        {
          "output_type": "execute_result",
          "data": {
            "text/plain": [
              "sexo\n",
              "F    3417087\n",
              "M    2973872\n",
              "f          6\n",
              "m          6\n",
              "Name: count, dtype: int64"
            ],
            "text/html": [
              "<div>\n",
              "<style scoped>\n",
              "    .dataframe tbody tr th:only-of-type {\n",
              "        vertical-align: middle;\n",
              "    }\n",
              "\n",
              "    .dataframe tbody tr th {\n",
              "        vertical-align: top;\n",
              "    }\n",
              "\n",
              "    .dataframe thead th {\n",
              "        text-align: right;\n",
              "    }\n",
              "</style>\n",
              "<table border=\"1\" class=\"dataframe\">\n",
              "  <thead>\n",
              "    <tr style=\"text-align: right;\">\n",
              "      <th></th>\n",
              "      <th>count</th>\n",
              "    </tr>\n",
              "    <tr>\n",
              "      <th>sexo</th>\n",
              "      <th></th>\n",
              "    </tr>\n",
              "  </thead>\n",
              "  <tbody>\n",
              "    <tr>\n",
              "      <th>F</th>\n",
              "      <td>3417087</td>\n",
              "    </tr>\n",
              "    <tr>\n",
              "      <th>M</th>\n",
              "      <td>2973872</td>\n",
              "    </tr>\n",
              "    <tr>\n",
              "      <th>f</th>\n",
              "      <td>6</td>\n",
              "    </tr>\n",
              "    <tr>\n",
              "      <th>m</th>\n",
              "      <td>6</td>\n",
              "    </tr>\n",
              "  </tbody>\n",
              "</table>\n",
              "</div><br><label><b>dtype:</b> int64</label>"
            ]
          },
          "metadata": {},
          "execution_count": 21
        }
      ]
    },
    {
      "cell_type": "code",
      "source": [
        "# Tipo\n",
        "data.tipo_de_contagio.value_counts(dropna=False)"
      ],
      "metadata": {
        "colab": {
          "base_uri": "https://localhost:8080/",
          "height": 209
        },
        "id": "EPa2IP-UKp4f",
        "outputId": "28b8508d-1925-4399-f202-03e5857da96c"
      },
      "execution_count": null,
      "outputs": [
        {
          "output_type": "execute_result",
          "data": {
            "text/plain": [
              "tipo_de_contagio\n",
              "Comunitaria    4447740\n",
              "Relacionado    1939528\n",
              "Importado         3703\n",
              "Name: count, dtype: int64"
            ],
            "text/html": [
              "<div>\n",
              "<style scoped>\n",
              "    .dataframe tbody tr th:only-of-type {\n",
              "        vertical-align: middle;\n",
              "    }\n",
              "\n",
              "    .dataframe tbody tr th {\n",
              "        vertical-align: top;\n",
              "    }\n",
              "\n",
              "    .dataframe thead th {\n",
              "        text-align: right;\n",
              "    }\n",
              "</style>\n",
              "<table border=\"1\" class=\"dataframe\">\n",
              "  <thead>\n",
              "    <tr style=\"text-align: right;\">\n",
              "      <th></th>\n",
              "      <th>count</th>\n",
              "    </tr>\n",
              "    <tr>\n",
              "      <th>tipo_de_contagio</th>\n",
              "      <th></th>\n",
              "    </tr>\n",
              "  </thead>\n",
              "  <tbody>\n",
              "    <tr>\n",
              "      <th>Comunitaria</th>\n",
              "      <td>4447740</td>\n",
              "    </tr>\n",
              "    <tr>\n",
              "      <th>Relacionado</th>\n",
              "      <td>1939528</td>\n",
              "    </tr>\n",
              "    <tr>\n",
              "      <th>Importado</th>\n",
              "      <td>3703</td>\n",
              "    </tr>\n",
              "  </tbody>\n",
              "</table>\n",
              "</div><br><label><b>dtype:</b> int64</label>"
            ]
          },
          "metadata": {},
          "execution_count": 22
        }
      ]
    },
    {
      "cell_type": "code",
      "source": [
        "# Pais procedencia\n",
        "data.nombre_del_pais.value_counts(dropna=False)"
      ],
      "metadata": {
        "colab": {
          "base_uri": "https://localhost:8080/",
          "height": 489
        },
        "id": "gchhw1W9K37I",
        "outputId": "1e2b7ada-6f9e-441d-80f2-76919e8f75b0"
      },
      "execution_count": null,
      "outputs": [
        {
          "output_type": "execute_result",
          "data": {
            "text/plain": [
              "nombre_del_pais\n",
              "NaN                          6387253\n",
              "ESTADOS UNIDOS DE AMÉRICA       1418\n",
              "MÉXICO                           385\n",
              "ESPAÑA                           370\n",
              "BRASIL                           285\n",
              "                              ...   \n",
              "CROACIA                            1\n",
              "REPÚBLICA ÁRABE SIRIA              1\n",
              "POLINESIA FRANCESA                 1\n",
              "REPÚBLICA CHECA                    1\n",
              "HAITÍ                              1\n",
              "Name: count, Length: 90, dtype: int64"
            ],
            "text/html": [
              "<div>\n",
              "<style scoped>\n",
              "    .dataframe tbody tr th:only-of-type {\n",
              "        vertical-align: middle;\n",
              "    }\n",
              "\n",
              "    .dataframe tbody tr th {\n",
              "        vertical-align: top;\n",
              "    }\n",
              "\n",
              "    .dataframe thead th {\n",
              "        text-align: right;\n",
              "    }\n",
              "</style>\n",
              "<table border=\"1\" class=\"dataframe\">\n",
              "  <thead>\n",
              "    <tr style=\"text-align: right;\">\n",
              "      <th></th>\n",
              "      <th>count</th>\n",
              "    </tr>\n",
              "    <tr>\n",
              "      <th>nombre_del_pais</th>\n",
              "      <th></th>\n",
              "    </tr>\n",
              "  </thead>\n",
              "  <tbody>\n",
              "    <tr>\n",
              "      <th>NaN</th>\n",
              "      <td>6387253</td>\n",
              "    </tr>\n",
              "    <tr>\n",
              "      <th>ESTADOS UNIDOS DE AMÉRICA</th>\n",
              "      <td>1418</td>\n",
              "    </tr>\n",
              "    <tr>\n",
              "      <th>MÉXICO</th>\n",
              "      <td>385</td>\n",
              "    </tr>\n",
              "    <tr>\n",
              "      <th>ESPAÑA</th>\n",
              "      <td>370</td>\n",
              "    </tr>\n",
              "    <tr>\n",
              "      <th>BRASIL</th>\n",
              "      <td>285</td>\n",
              "    </tr>\n",
              "    <tr>\n",
              "      <th>...</th>\n",
              "      <td>...</td>\n",
              "    </tr>\n",
              "    <tr>\n",
              "      <th>CROACIA</th>\n",
              "      <td>1</td>\n",
              "    </tr>\n",
              "    <tr>\n",
              "      <th>REPÚBLICA ÁRABE SIRIA</th>\n",
              "      <td>1</td>\n",
              "    </tr>\n",
              "    <tr>\n",
              "      <th>POLINESIA FRANCESA</th>\n",
              "      <td>1</td>\n",
              "    </tr>\n",
              "    <tr>\n",
              "      <th>REPÚBLICA CHECA</th>\n",
              "      <td>1</td>\n",
              "    </tr>\n",
              "    <tr>\n",
              "      <th>HAITÍ</th>\n",
              "      <td>1</td>\n",
              "    </tr>\n",
              "  </tbody>\n",
              "</table>\n",
              "<p>90 rows × 1 columns</p>\n",
              "</div><br><label><b>dtype:</b> int64</label>"
            ]
          },
          "metadata": {},
          "execution_count": 23
        }
      ]
    },
    {
      "cell_type": "code",
      "source": [
        "# Tipo recuperacion\n",
        "data.tipo_de_recuperacion.value_counts(dropna=False)"
      ],
      "metadata": {
        "colab": {
          "base_uri": "https://localhost:8080/",
          "height": 241
        },
        "id": "uwmnSHByKxcR",
        "outputId": "24d2ede9-a748-4bad-9a47-3e376306cc08"
      },
      "execution_count": null,
      "outputs": [
        {
          "output_type": "execute_result",
          "data": {
            "text/plain": [
              "tipo_de_recuperacion\n",
              "Tiempo    5274348\n",
              "PCR        933773\n",
              "NaN        182398\n",
              "TIEMPO        452\n",
              "Name: count, dtype: int64"
            ],
            "text/html": [
              "<div>\n",
              "<style scoped>\n",
              "    .dataframe tbody tr th:only-of-type {\n",
              "        vertical-align: middle;\n",
              "    }\n",
              "\n",
              "    .dataframe tbody tr th {\n",
              "        vertical-align: top;\n",
              "    }\n",
              "\n",
              "    .dataframe thead th {\n",
              "        text-align: right;\n",
              "    }\n",
              "</style>\n",
              "<table border=\"1\" class=\"dataframe\">\n",
              "  <thead>\n",
              "    <tr style=\"text-align: right;\">\n",
              "      <th></th>\n",
              "      <th>count</th>\n",
              "    </tr>\n",
              "    <tr>\n",
              "      <th>tipo_de_recuperacion</th>\n",
              "      <th></th>\n",
              "    </tr>\n",
              "  </thead>\n",
              "  <tbody>\n",
              "    <tr>\n",
              "      <th>Tiempo</th>\n",
              "      <td>5274348</td>\n",
              "    </tr>\n",
              "    <tr>\n",
              "      <th>PCR</th>\n",
              "      <td>933773</td>\n",
              "    </tr>\n",
              "    <tr>\n",
              "      <th>NaN</th>\n",
              "      <td>182398</td>\n",
              "    </tr>\n",
              "    <tr>\n",
              "      <th>TIEMPO</th>\n",
              "      <td>452</td>\n",
              "    </tr>\n",
              "  </tbody>\n",
              "</table>\n",
              "</div><br><label><b>dtype:</b> int64</label>"
            ]
          },
          "metadata": {},
          "execution_count": 24
        }
      ]
    },
    {
      "cell_type": "code",
      "source": [
        "# Pertenencia etnica\n",
        "data.pertenencia_etnica.value_counts(dropna=False)"
      ],
      "metadata": {
        "colab": {
          "base_uri": "https://localhost:8080/",
          "height": 303
        },
        "id": "4zJrV8bCK1ka",
        "outputId": "ff838cca-4c1a-4a64-c926-2577da11f570"
      },
      "execution_count": null,
      "outputs": [
        {
          "output_type": "execute_result",
          "data": {
            "text/plain": [
              "pertenencia_etnica\n",
              "6.0    6166659\n",
              "5.0     137411\n",
              "1.0      84202\n",
              "NaN       2156\n",
              "3.0        405\n",
              "2.0        138\n",
              "Name: count, dtype: int64"
            ],
            "text/html": [
              "<div>\n",
              "<style scoped>\n",
              "    .dataframe tbody tr th:only-of-type {\n",
              "        vertical-align: middle;\n",
              "    }\n",
              "\n",
              "    .dataframe tbody tr th {\n",
              "        vertical-align: top;\n",
              "    }\n",
              "\n",
              "    .dataframe thead th {\n",
              "        text-align: right;\n",
              "    }\n",
              "</style>\n",
              "<table border=\"1\" class=\"dataframe\">\n",
              "  <thead>\n",
              "    <tr style=\"text-align: right;\">\n",
              "      <th></th>\n",
              "      <th>count</th>\n",
              "    </tr>\n",
              "    <tr>\n",
              "      <th>pertenencia_etnica</th>\n",
              "      <th></th>\n",
              "    </tr>\n",
              "  </thead>\n",
              "  <tbody>\n",
              "    <tr>\n",
              "      <th>6.0</th>\n",
              "      <td>6166659</td>\n",
              "    </tr>\n",
              "    <tr>\n",
              "      <th>5.0</th>\n",
              "      <td>137411</td>\n",
              "    </tr>\n",
              "    <tr>\n",
              "      <th>1.0</th>\n",
              "      <td>84202</td>\n",
              "    </tr>\n",
              "    <tr>\n",
              "      <th>NaN</th>\n",
              "      <td>2156</td>\n",
              "    </tr>\n",
              "    <tr>\n",
              "      <th>3.0</th>\n",
              "      <td>405</td>\n",
              "    </tr>\n",
              "    <tr>\n",
              "      <th>2.0</th>\n",
              "      <td>138</td>\n",
              "    </tr>\n",
              "  </tbody>\n",
              "</table>\n",
              "</div><br><label><b>dtype:</b> int64</label>"
            ]
          },
          "metadata": {},
          "execution_count": 25
        }
      ]
    },
    {
      "cell_type": "code",
      "source": [
        "# Nombre grupo etnico\n",
        "data.nombre_del_grupo_etnico.value_counts(dropna=False)"
      ],
      "metadata": {
        "colab": {
          "base_uri": "https://localhost:8080/",
          "height": 489
        },
        "id": "zPRKOw4FLUQG",
        "outputId": "c85b6fb7-d4e1-41f7-8bbb-42f6f65523d8"
      },
      "execution_count": null,
      "outputs": [
        {
          "output_type": "execute_result",
          "data": {
            "text/plain": [
              "nombre_del_grupo_etnico\n",
              "NaN               6307107\n",
              "Por definir         17222\n",
              "Sin Comunidad       12064\n",
              "ZENU                 9264\n",
              "PIJAO                4112\n",
              "                   ...   \n",
              "HALAMATKAT              1\n",
              "GUALIRUMANA             1\n",
              "SIICHEN                 1\n",
              "AGUASAL ZONA 1          1\n",
              "EL ARROYO 1             1\n",
              "Name: count, Length: 1888, dtype: int64"
            ],
            "text/html": [
              "<div>\n",
              "<style scoped>\n",
              "    .dataframe tbody tr th:only-of-type {\n",
              "        vertical-align: middle;\n",
              "    }\n",
              "\n",
              "    .dataframe tbody tr th {\n",
              "        vertical-align: top;\n",
              "    }\n",
              "\n",
              "    .dataframe thead th {\n",
              "        text-align: right;\n",
              "    }\n",
              "</style>\n",
              "<table border=\"1\" class=\"dataframe\">\n",
              "  <thead>\n",
              "    <tr style=\"text-align: right;\">\n",
              "      <th></th>\n",
              "      <th>count</th>\n",
              "    </tr>\n",
              "    <tr>\n",
              "      <th>nombre_del_grupo_etnico</th>\n",
              "      <th></th>\n",
              "    </tr>\n",
              "  </thead>\n",
              "  <tbody>\n",
              "    <tr>\n",
              "      <th>NaN</th>\n",
              "      <td>6307107</td>\n",
              "    </tr>\n",
              "    <tr>\n",
              "      <th>Por definir</th>\n",
              "      <td>17222</td>\n",
              "    </tr>\n",
              "    <tr>\n",
              "      <th>Sin Comunidad</th>\n",
              "      <td>12064</td>\n",
              "    </tr>\n",
              "    <tr>\n",
              "      <th>ZENU</th>\n",
              "      <td>9264</td>\n",
              "    </tr>\n",
              "    <tr>\n",
              "      <th>PIJAO</th>\n",
              "      <td>4112</td>\n",
              "    </tr>\n",
              "    <tr>\n",
              "      <th>...</th>\n",
              "      <td>...</td>\n",
              "    </tr>\n",
              "    <tr>\n",
              "      <th>HALAMATKAT</th>\n",
              "      <td>1</td>\n",
              "    </tr>\n",
              "    <tr>\n",
              "      <th>GUALIRUMANA</th>\n",
              "      <td>1</td>\n",
              "    </tr>\n",
              "    <tr>\n",
              "      <th>SIICHEN</th>\n",
              "      <td>1</td>\n",
              "    </tr>\n",
              "    <tr>\n",
              "      <th>AGUASAL ZONA 1</th>\n",
              "      <td>1</td>\n",
              "    </tr>\n",
              "    <tr>\n",
              "      <th>EL ARROYO 1</th>\n",
              "      <td>1</td>\n",
              "    </tr>\n",
              "  </tbody>\n",
              "</table>\n",
              "<p>1888 rows × 1 columns</p>\n",
              "</div><br><label><b>dtype:</b> int64</label>"
            ]
          },
          "metadata": {},
          "execution_count": 26
        }
      ]
    },
    {
      "cell_type": "markdown",
      "source": [
        "###Realiza una limpieza de datos de las variables anteriores, haciendo uso de .zip(), .map(), .replace(), .fillna(), etc. (10 puntos)."
      ],
      "metadata": {
        "id": "KdgP7z48JLTh"
      }
    },
    {
      "cell_type": "markdown",
      "source": [
        "#### ESTADO"
      ],
      "metadata": {
        "id": "H-WkHlU-PLj-"
      }
    },
    {
      "cell_type": "code",
      "source": [
        "data.estado.fillna('NO ESTABLECIDO', inplace=True)"
      ],
      "metadata": {
        "id": "CgxLj61qOAhj"
      },
      "execution_count": null,
      "outputs": []
    },
    {
      "cell_type": "code",
      "source": [
        "estados_error = data.estado.unique()"
      ],
      "metadata": {
        "id": "QZ1PxkDWNKFf"
      },
      "execution_count": null,
      "outputs": []
    },
    {
      "cell_type": "code",
      "source": [
        "estados_ok = ['LEVE', 'FALLECIDO', 'NO ESTABLECIDO', 'LEVE', 'LEVE', 'MODERADO',\n",
        "       'GRAVE']"
      ],
      "metadata": {
        "id": "cSxCeoBwNdxj"
      },
      "execution_count": null,
      "outputs": []
    },
    {
      "cell_type": "code",
      "source": [
        "estados_dict = dict(zip(estados_error, estados_ok))"
      ],
      "metadata": {
        "id": "btgfD-kdOynV"
      },
      "execution_count": null,
      "outputs": []
    },
    {
      "cell_type": "code",
      "source": [
        "estados_dict"
      ],
      "metadata": {
        "colab": {
          "base_uri": "https://localhost:8080/"
        },
        "id": "JhOBFAlVO3Cr",
        "outputId": "eeec1553-1e11-40ea-9177-70aaf21c4173"
      },
      "execution_count": null,
      "outputs": [
        {
          "output_type": "execute_result",
          "data": {
            "text/plain": [
              "{'Leve': 'LEVE',\n",
              " 'Fallecido': 'FALLECIDO',\n",
              " 'NO ESTABLECIDO': 'NO ESTABLECIDO',\n",
              " 'leve': 'LEVE',\n",
              " 'LEVE': 'LEVE',\n",
              " 'Moderado': 'MODERADO',\n",
              " 'Grave': 'GRAVE'}"
            ]
          },
          "metadata": {},
          "execution_count": 41
        }
      ]
    },
    {
      "cell_type": "code",
      "source": [
        "data.estado.replace(estados_dict, inplace=True)"
      ],
      "metadata": {
        "id": "Rhrrhie3JNo-"
      },
      "execution_count": null,
      "outputs": []
    },
    {
      "cell_type": "code",
      "source": [
        "data.estado.unique()"
      ],
      "metadata": {
        "colab": {
          "base_uri": "https://localhost:8080/"
        },
        "id": "U2f7UmaKPBBd",
        "outputId": "c29ef6c4-3c21-41a8-ef7e-35bd855ee7d2"
      },
      "execution_count": null,
      "outputs": [
        {
          "output_type": "execute_result",
          "data": {
            "text/plain": [
              "array(['LEVE', 'FALLECIDO', 'NO ESTABLECIDO', 'MODERADO', 'GRAVE'],\n",
              "      dtype=object)"
            ]
          },
          "metadata": {},
          "execution_count": 43
        }
      ]
    },
    {
      "cell_type": "markdown",
      "source": [
        "#### SEXO"
      ],
      "metadata": {
        "id": "xP-TP6ezPT1w"
      }
    },
    {
      "cell_type": "code",
      "source": [
        "data.sexo.replace({'F': 'F', 'f': 'F', 'M':'M', 'm':'M'}, inplace=True)"
      ],
      "metadata": {
        "id": "dVbX-N64PhGc"
      },
      "execution_count": null,
      "outputs": []
    },
    {
      "cell_type": "code",
      "source": [
        "data.sexo.unique()"
      ],
      "metadata": {
        "colab": {
          "base_uri": "https://localhost:8080/"
        },
        "id": "aB8oXnaGP4yW",
        "outputId": "ea6c15d8-0d2a-48a8-f1e0-58232e22134c"
      },
      "execution_count": null,
      "outputs": [
        {
          "output_type": "execute_result",
          "data": {
            "text/plain": [
              "array(['F', 'M'], dtype=object)"
            ]
          },
          "metadata": {},
          "execution_count": 46
        }
      ]
    },
    {
      "cell_type": "markdown",
      "source": [
        "####TIPO CONTAGIO"
      ],
      "metadata": {
        "id": "_XDWO4loP79t"
      }
    },
    {
      "cell_type": "code",
      "source": [
        "data.tipo_de_contagio.replace({'Comunitaria': 'COMUNITARIA', 'Relacionado':'RELACIONADO', 'Importado':'IMPORTADO'}, inplace=True)\n",
        "data.tipo_de_contagio.unique()"
      ],
      "metadata": {
        "colab": {
          "base_uri": "https://localhost:8080/"
        },
        "id": "Hwwes9kIQUvE",
        "outputId": "4f1f31b9-8e7e-4730-9354-bbac1829685a"
      },
      "execution_count": null,
      "outputs": [
        {
          "output_type": "execute_result",
          "data": {
            "text/plain": [
              "array(['COMUNITARIA', 'RELACIONADO', 'IMPORTADO'], dtype=object)"
            ]
          },
          "metadata": {},
          "execution_count": 48
        }
      ]
    },
    {
      "cell_type": "markdown",
      "source": [
        "####País_procedencia"
      ],
      "metadata": {
        "id": "k5cSW5DEQ5K_"
      }
    },
    {
      "cell_type": "code",
      "source": [
        "data.nombre_del_pais.fillna('NO ESTABLECIDO', inplace=True)"
      ],
      "metadata": {
        "id": "FAOJ5UPjRF3h"
      },
      "execution_count": null,
      "outputs": []
    },
    {
      "cell_type": "code",
      "source": [
        "pais_error = data.nombre_del_pais.unique()"
      ],
      "metadata": {
        "id": "WdEV4idUQ8ud"
      },
      "execution_count": null,
      "outputs": []
    },
    {
      "cell_type": "code",
      "source": [
        "pais_error.sort()\n",
        "pais_error"
      ],
      "metadata": {
        "colab": {
          "base_uri": "https://localhost:8080/"
        },
        "id": "xJ51QYt0Rf9O",
        "outputId": "17184d38-fc14-476d-defa-4a2ce110310a"
      },
      "execution_count": null,
      "outputs": [
        {
          "output_type": "execute_result",
          "data": {
            "text/plain": [
              "array(['AFGANISTÁN', 'ALBANIA', 'ALEMANIA', 'ANDORRA', 'ANGUILA',\n",
              "       'ANTILLAS NEERLANDESAS', 'ARABIA SAUDITA', 'ARABIA SAUDÍ',\n",
              "       'ARGENTINA', 'ARMENIA', 'ARUBA', 'AUSTRALIA', 'BELARUSIA',\n",
              "       'BOLIVIA', 'BOSNIA Y HERZEGOVINA', 'BRASIL', 'BÉLGICA', 'CAMERÚN',\n",
              "       'CANADÁ', 'CHILE', 'CHINA', 'COMORAS', 'COSTA RICA', 'CROACIA',\n",
              "       'CUBA', 'CURAZAO', 'DOMINICA', 'ECUADOR', 'EGIPTO', 'EL SALVADOR',\n",
              "       'EMIRATOS ARABES UNIDOS', 'ESPAÑA', 'ESTADOS UNIDOS',\n",
              "       'ESTADOS UNIDOS DE AMÉRICA', 'FEDERACIÓN DE RUSIA', 'FRANCIA',\n",
              "       'GRANADA', 'GRECIA', 'GUADALUPE', 'GUATEMALA', 'HAITÍ', 'HONDURAS',\n",
              "       'INDONESIA', 'IRLANDA', 'ISLAS VÍRGENES DE LOS ESTADOS UNIDOS',\n",
              "       'ISRAEL', 'ITALIA', 'JAMAICA', 'JERSEY', 'KENYA', 'LIBANO',\n",
              "       'MARRUECOS', 'MEXICO', 'MONTENEGRO', 'MÉXICO', 'NICARAGUA',\n",
              "       'NIGERIA', 'NO ESTABLECIDO', 'NORUEGA', 'PANAMA', 'PANAMÁ',\n",
              "       'PARAGUAY', 'PAÍSES BAJOS', 'PERU', 'PERÚ', 'POLINESIA FRANCESA',\n",
              "       'PORTUGAL', 'PUERTO RICO', 'QATAR', 'REINO UNIDO',\n",
              "       'REINO UNIDO DE GRAN BRETAÑA E IRLANDA DEL NORTE',\n",
              "       'REPUBLICA POPULAR DEL CONGO', 'REPÚBLICA CENTROAFRICANA',\n",
              "       'REPÚBLICA CHECA', 'REPÚBLICA DE COREA', 'REPÚBLICA DOCIMINCANA',\n",
              "       'REPÚBLICA DOMINICANA', 'REPÚBLICA ÁRABE SIRIA', 'SAN BARTOLOMÉ',\n",
              "       'SAN VICENTE Y LAS GRANADINAS', 'SANTA HELENA', 'SUECIA', 'SUIZA',\n",
              "       'TABATINGA', 'TRINIDAD Y TOBAGO', 'TURQUÍA', 'UCRANIA', 'URUGUAY',\n",
              "       'VENEUELA', 'VENEZUELA'], dtype=object)"
            ]
          },
          "metadata": {},
          "execution_count": 58
        }
      ]
    },
    {
      "cell_type": "markdown",
      "source": [
        "Para efecto del analisis, voy a tomar los territorios pertenecientes a las antiguas Antillas Neerlandesas como países bajos, ya que aunque actualmente tienen cierto grado de autonomía, siguen teniendo dependencia del mismo"
      ],
      "metadata": {
        "id": "ezND2iviXquc"
      }
    },
    {
      "cell_type": "code",
      "source": [
        "paises_ok = [\n",
        "  'AFGANISTÁN','ALBANIA','ALEMANIA','ANDORRA','REINO UNIDO DE GRAN BRETAÑA E IRLANDA DEL NORTE',\n",
        "  'PAÍSES BAJOS','ARABIA SAUDITA','ARABIA SAUDITA',\n",
        "  'ARGENTINA','ARMENIA','PAÍSES BAJOS','AUSTRALIA','BIELORRUSIA',\n",
        "  'BOLIVIA','BOSNIA Y HERZEGOVINA','BRASIL','BÉLGICA','CAMERÚN',\n",
        "  'CANADÁ','CHILE','CHINA','COMORAS','COSTA RICA','CROACIA',\n",
        "  'CUBA','PAÍSES BAJOS','DOMINICA','ECUADOR','EGIPTO','EL SALVADOR',\n",
        "  'EMIRATOS ÁRABES UNIDOS','ESPAÑA','ESTADOS UNIDOS DE AMÉRICA',\n",
        "  'ESTADOS UNIDOS DE AMÉRICA','RUSIA','FRANCIA',\n",
        "  'GRANADA','GRECIA','FRANCIA','GUATEMALA','HAITÍ','HONDURAS',\n",
        "  'INDONESIA','IRLANDA','ESTADOS UNIDOS DE AMÉRICA',\n",
        "  'ISRAEL','ITALIA','JAMAICA','REINO UNIDO DE GRAN BRETAÑA E IRLANDA DEL NORTE','KENIA','LÍBANO',\n",
        "  'MARRUECOS','MÉXICO','MONTENEGRO','MÉXICO','NICARAGUA',\n",
        "  'NIGERIA','NO ESTABLECIDO','NORUEGA','PANAMÁ','PANAMÁ',\n",
        "  'PARAGUAY','PAÍSES BAJOS','PERÚ','PERÚ','FRANCIA',\n",
        "  'PORTUGAL','PUERTO RICO','CATAR','REINO UNIDO',\n",
        "  'REINO UNIDO DE GRAN BRETAÑA E IRLANDA DEL NORTE',\n",
        "  'REPÚBLICA POPULAR DEL CONGO','REPÚBLICA CENTROAFRICANA',\n",
        "  'REPÚBLICA CHECA','REPÚBLICA DE COREA','REPÚBLICA DOMINICANA',\n",
        "  'REPÚBLICA DOMINICANA','REPÚBLICA ÁRABE SIRIA',\n",
        "  'FRANCIA','SAN VICENTE Y LAS GRANADINAS',\n",
        "  'REINO UNIDO DE GRAN BRETAÑA E IRLANDA DEL NORTE','SUECIA','SUIZA',\n",
        "  'BRASIL','TRINIDAD Y TOBAGO','TURQUÍA','UCRANIA','URUGUAY',\n",
        "  'VENEZUELA','VENEZUELA'\n",
        "]"
      ],
      "metadata": {
        "id": "2nAxDtrmSt1B"
      },
      "execution_count": null,
      "outputs": []
    },
    {
      "cell_type": "code",
      "source": [
        "dict_paises = dict(zip(pais_error, paises_ok))"
      ],
      "metadata": {
        "id": "SOfH-_V_afuz"
      },
      "execution_count": null,
      "outputs": []
    },
    {
      "cell_type": "code",
      "source": [
        "dict_paises"
      ],
      "metadata": {
        "colab": {
          "base_uri": "https://localhost:8080/"
        },
        "id": "Yun4Daj3ajSn",
        "outputId": "dfbde575-3c3b-48fc-c71d-2e4dc3b5989d"
      },
      "execution_count": null,
      "outputs": [
        {
          "output_type": "execute_result",
          "data": {
            "text/plain": [
              "{'AFGANISTÁN': 'AFGANISTÁN',\n",
              " 'ALBANIA': 'ALBANIA',\n",
              " 'ALEMANIA': 'ALEMANIA',\n",
              " 'ANDORRA': 'ANDORRA',\n",
              " 'ANGUILA': 'REINO UNIDO DE GRAN BRETAÑA E IRLANDA DEL NORTE',\n",
              " 'ANTILLAS NEERLANDESAS': 'PAÍSES BAJOS',\n",
              " 'ARABIA SAUDITA': 'ARABIA SAUDITA',\n",
              " 'ARABIA SAUDÍ': 'ARABIA SAUDITA',\n",
              " 'ARGENTINA': 'ARGENTINA',\n",
              " 'ARMENIA': 'ARMENIA',\n",
              " 'ARUBA': 'PAÍSES BAJOS',\n",
              " 'AUSTRALIA': 'AUSTRALIA',\n",
              " 'BELARUSIA': 'BIELORRUSIA',\n",
              " 'BOLIVIA': 'BOLIVIA',\n",
              " 'BOSNIA Y HERZEGOVINA': 'BOSNIA Y HERZEGOVINA',\n",
              " 'BRASIL': 'BRASIL',\n",
              " 'BÉLGICA': 'BÉLGICA',\n",
              " 'CAMERÚN': 'CAMERÚN',\n",
              " 'CANADÁ': 'CANADÁ',\n",
              " 'CHILE': 'CHILE',\n",
              " 'CHINA': 'CHINA',\n",
              " 'COMORAS': 'COMORAS',\n",
              " 'COSTA RICA': 'COSTA RICA',\n",
              " 'CROACIA': 'CROACIA',\n",
              " 'CUBA': 'CUBA',\n",
              " 'CURAZAO': 'PAÍSES BAJOS',\n",
              " 'DOMINICA': 'DOMINICA',\n",
              " 'ECUADOR': 'ECUADOR',\n",
              " 'EGIPTO': 'EGIPTO',\n",
              " 'EL SALVADOR': 'EL SALVADOR',\n",
              " 'EMIRATOS ARABES UNIDOS': 'EMIRATOS ÁRABES UNIDOS',\n",
              " 'ESPAÑA': 'ESPAÑA',\n",
              " 'ESTADOS UNIDOS': 'ESTADOS UNIDOS DE AMÉRICA',\n",
              " 'ESTADOS UNIDOS DE AMÉRICA': 'ESTADOS UNIDOS DE AMÉRICA',\n",
              " 'FEDERACIÓN DE RUSIA': 'RUSIA',\n",
              " 'FRANCIA': 'FRANCIA',\n",
              " 'GRANADA': 'GRANADA',\n",
              " 'GRECIA': 'GRECIA',\n",
              " 'GUADALUPE': 'FRANCIA',\n",
              " 'GUATEMALA': 'GUATEMALA',\n",
              " 'HAITÍ': 'HAITÍ',\n",
              " 'HONDURAS': 'HONDURAS',\n",
              " 'INDONESIA': 'INDONESIA',\n",
              " 'IRLANDA': 'IRLANDA',\n",
              " 'ISLAS VÍRGENES DE LOS ESTADOS UNIDOS': 'ESTADOS UNIDOS DE AMÉRICA',\n",
              " 'ISRAEL': 'ISRAEL',\n",
              " 'ITALIA': 'ITALIA',\n",
              " 'JAMAICA': 'JAMAICA',\n",
              " 'JERSEY': 'REINO UNIDO DE GRAN BRETAÑA E IRLANDA DEL NORTE',\n",
              " 'KENYA': 'KENIA',\n",
              " 'LIBANO': 'LÍBANO',\n",
              " 'MARRUECOS': 'MARRUECOS',\n",
              " 'MEXICO': 'MÉXICO',\n",
              " 'MONTENEGRO': 'MONTENEGRO',\n",
              " 'MÉXICO': 'MÉXICO',\n",
              " 'NICARAGUA': 'NICARAGUA',\n",
              " 'NIGERIA': 'NIGERIA',\n",
              " 'NO ESTABLECIDO': 'NO ESTABLECIDO',\n",
              " 'NORUEGA': 'NORUEGA',\n",
              " 'PANAMA': 'PANAMÁ',\n",
              " 'PANAMÁ': 'PANAMÁ',\n",
              " 'PARAGUAY': 'PARAGUAY',\n",
              " 'PAÍSES BAJOS': 'PAÍSES BAJOS',\n",
              " 'PERU': 'PERÚ',\n",
              " 'PERÚ': 'PERÚ',\n",
              " 'POLINESIA FRANCESA': 'FRANCIA',\n",
              " 'PORTUGAL': 'PORTUGAL',\n",
              " 'PUERTO RICO': 'PUERTO RICO',\n",
              " 'QATAR': 'CATAR',\n",
              " 'REINO UNIDO': 'REINO UNIDO',\n",
              " 'REINO UNIDO DE GRAN BRETAÑA E IRLANDA DEL NORTE': 'REINO UNIDO DE GRAN BRETAÑA E IRLANDA DEL NORTE',\n",
              " 'REPUBLICA POPULAR DEL CONGO': 'REPÚBLICA POPULAR DEL CONGO',\n",
              " 'REPÚBLICA CENTROAFRICANA': 'REPÚBLICA CENTROAFRICANA',\n",
              " 'REPÚBLICA CHECA': 'REPÚBLICA CHECA',\n",
              " 'REPÚBLICA DE COREA': 'REPÚBLICA DE COREA',\n",
              " 'REPÚBLICA DOCIMINCANA': 'REPÚBLICA DOMINICANA',\n",
              " 'REPÚBLICA DOMINICANA': 'REPÚBLICA DOMINICANA',\n",
              " 'REPÚBLICA ÁRABE SIRIA': 'REPÚBLICA ÁRABE SIRIA',\n",
              " 'SAN BARTOLOMÉ': 'FRANCIA',\n",
              " 'SAN VICENTE Y LAS GRANADINAS': 'SAN VICENTE Y LAS GRANADINAS',\n",
              " 'SANTA HELENA': 'REINO UNIDO DE GRAN BRETAÑA E IRLANDA DEL NORTE',\n",
              " 'SUECIA': 'SUECIA',\n",
              " 'SUIZA': 'SUIZA',\n",
              " 'TABATINGA': 'BRASIL',\n",
              " 'TRINIDAD Y TOBAGO': 'TRINIDAD Y TOBAGO',\n",
              " 'TURQUÍA': 'TURQUÍA',\n",
              " 'UCRANIA': 'UCRANIA',\n",
              " 'URUGUAY': 'URUGUAY',\n",
              " 'VENEUELA': 'VENEZUELA',\n",
              " 'VENEZUELA': 'VENEZUELA'}"
            ]
          },
          "metadata": {},
          "execution_count": 61
        }
      ]
    },
    {
      "cell_type": "code",
      "source": [
        "data.nombre_del_pais.replace(dict_paises, inplace=True)"
      ],
      "metadata": {
        "id": "wFNbhpV-a-IV"
      },
      "execution_count": null,
      "outputs": []
    },
    {
      "cell_type": "markdown",
      "source": [
        "#### TIPO RECUPERACION"
      ],
      "metadata": {
        "id": "0bBnr3XybLyw"
      }
    },
    {
      "cell_type": "code",
      "source": [
        "data.tipo_de_recuperacion.unique()"
      ],
      "metadata": {
        "colab": {
          "base_uri": "https://localhost:8080/"
        },
        "id": "_kDRy8IobfBZ",
        "outputId": "9f884e5c-4400-4767-e5eb-1d857568f35c"
      },
      "execution_count": null,
      "outputs": [
        {
          "output_type": "execute_result",
          "data": {
            "text/plain": [
              "array(['Tiempo', nan, 'PCR', 'TIEMPO'], dtype=object)"
            ]
          },
          "metadata": {},
          "execution_count": 63
        }
      ]
    },
    {
      "cell_type": "code",
      "source": [
        "data.tipo_de_recuperacion.fillna('NO ESTABLECIDO', inplace=True)\n",
        "data.tipo_de_recuperacion.replace({'Tiempo':'TIEMPO', 'NO ESTABLECIDO':'NO ESTABLECIDO','PCR':'PCR','TIEMPO':'TIEMPO'}, inplace=True)\n",
        "data.tipo_de_recuperacion.unique()"
      ],
      "metadata": {
        "colab": {
          "base_uri": "https://localhost:8080/"
        },
        "id": "YxeCYAHWbH_x",
        "outputId": "13ecce41-c6e3-4c97-8dfd-3b4343a580fb"
      },
      "execution_count": null,
      "outputs": [
        {
          "output_type": "execute_result",
          "data": {
            "text/plain": [
              "array(['TIEMPO', 'NO ESTABLECIDO', 'PCR'], dtype=object)"
            ]
          },
          "metadata": {},
          "execution_count": 65
        }
      ]
    },
    {
      "cell_type": "markdown",
      "source": [
        "#### PERTENENCIA ETNICA"
      ],
      "metadata": {
        "id": "VQE5nzchcCW2"
      }
    },
    {
      "cell_type": "code",
      "source": [
        "data.pertenencia_etnica.unique()"
      ],
      "metadata": {
        "colab": {
          "base_uri": "https://localhost:8080/"
        },
        "id": "5Ib632i8b7GE",
        "outputId": "2994c198-f6cd-452f-800b-82c6c47946e2"
      },
      "execution_count": null,
      "outputs": [
        {
          "output_type": "execute_result",
          "data": {
            "text/plain": [
              "array([ 6.,  5.,  1.,  3.,  2., nan])"
            ]
          },
          "metadata": {},
          "execution_count": 66
        }
      ]
    },
    {
      "cell_type": "code",
      "source": [
        "data.pertenencia_etnica.fillna(int(data.pertenencia_etnica.mean()), inplace=True)"
      ],
      "metadata": {
        "id": "VwGEg5NRcTKY"
      },
      "execution_count": null,
      "outputs": []
    },
    {
      "cell_type": "code",
      "source": [
        "data.pertenencia_etnica.unique()"
      ],
      "metadata": {
        "colab": {
          "base_uri": "https://localhost:8080/"
        },
        "id": "y0o5JRAVcvs5",
        "outputId": "351f2895-084e-48c5-fe48-b9313bfda9bb"
      },
      "execution_count": null,
      "outputs": [
        {
          "output_type": "execute_result",
          "data": {
            "text/plain": [
              "array([6., 5., 1., 3., 2.])"
            ]
          },
          "metadata": {},
          "execution_count": 70
        }
      ]
    },
    {
      "cell_type": "markdown",
      "source": [
        "#### NOMBRE GRUPO ETNICO"
      ],
      "metadata": {
        "id": "O_aSN1j2cz1w"
      }
    },
    {
      "cell_type": "code",
      "source": [
        "data.nombre_del_grupo_etnico.value_counts(dropna=False)"
      ],
      "metadata": {
        "colab": {
          "base_uri": "https://localhost:8080/",
          "height": 490
        },
        "id": "7gYtoVZrcyYe",
        "outputId": "6563af86-472a-4e7b-b511-7b20ec1e47b0"
      },
      "execution_count": null,
      "outputs": [
        {
          "output_type": "execute_result",
          "data": {
            "text/plain": [
              "nombre_del_grupo_etnico\n",
              "NaN               6307107\n",
              "Por definir         17222\n",
              "Sin Comunidad       12064\n",
              "ZENU                 9264\n",
              "PIJAO                4112\n",
              "                   ...   \n",
              "HALAMATKAT              1\n",
              "GUALIRUMANA             1\n",
              "SIICHEN                 1\n",
              "AGUASAL ZONA 1          1\n",
              "EL ARROYO 1             1\n",
              "Name: count, Length: 1888, dtype: int64"
            ],
            "text/html": [
              "<div>\n",
              "<style scoped>\n",
              "    .dataframe tbody tr th:only-of-type {\n",
              "        vertical-align: middle;\n",
              "    }\n",
              "\n",
              "    .dataframe tbody tr th {\n",
              "        vertical-align: top;\n",
              "    }\n",
              "\n",
              "    .dataframe thead th {\n",
              "        text-align: right;\n",
              "    }\n",
              "</style>\n",
              "<table border=\"1\" class=\"dataframe\">\n",
              "  <thead>\n",
              "    <tr style=\"text-align: right;\">\n",
              "      <th></th>\n",
              "      <th>count</th>\n",
              "    </tr>\n",
              "    <tr>\n",
              "      <th>nombre_del_grupo_etnico</th>\n",
              "      <th></th>\n",
              "    </tr>\n",
              "  </thead>\n",
              "  <tbody>\n",
              "    <tr>\n",
              "      <th>NaN</th>\n",
              "      <td>6307107</td>\n",
              "    </tr>\n",
              "    <tr>\n",
              "      <th>Por definir</th>\n",
              "      <td>17222</td>\n",
              "    </tr>\n",
              "    <tr>\n",
              "      <th>Sin Comunidad</th>\n",
              "      <td>12064</td>\n",
              "    </tr>\n",
              "    <tr>\n",
              "      <th>ZENU</th>\n",
              "      <td>9264</td>\n",
              "    </tr>\n",
              "    <tr>\n",
              "      <th>PIJAO</th>\n",
              "      <td>4112</td>\n",
              "    </tr>\n",
              "    <tr>\n",
              "      <th>...</th>\n",
              "      <td>...</td>\n",
              "    </tr>\n",
              "    <tr>\n",
              "      <th>HALAMATKAT</th>\n",
              "      <td>1</td>\n",
              "    </tr>\n",
              "    <tr>\n",
              "      <th>GUALIRUMANA</th>\n",
              "      <td>1</td>\n",
              "    </tr>\n",
              "    <tr>\n",
              "      <th>SIICHEN</th>\n",
              "      <td>1</td>\n",
              "    </tr>\n",
              "    <tr>\n",
              "      <th>AGUASAL ZONA 1</th>\n",
              "      <td>1</td>\n",
              "    </tr>\n",
              "    <tr>\n",
              "      <th>EL ARROYO 1</th>\n",
              "      <td>1</td>\n",
              "    </tr>\n",
              "  </tbody>\n",
              "</table>\n",
              "<p>1888 rows × 1 columns</p>\n",
              "</div><br><label><b>dtype:</b> int64</label>"
            ]
          },
          "metadata": {},
          "execution_count": 72
        }
      ]
    },
    {
      "cell_type": "code",
      "source": [
        "data.nombre_del_grupo_etnico.fillna('NO ESTABLECIDO', inplace=True)"
      ],
      "metadata": {
        "id": "VRBvn-DzdR6d"
      },
      "execution_count": null,
      "outputs": []
    },
    {
      "cell_type": "code",
      "source": [
        "data.nombre_del_grupo_etnico = data.nombre_del_grupo_etnico.str.upper()"
      ],
      "metadata": {
        "id": "0h4sze7lddgK"
      },
      "execution_count": null,
      "outputs": []
    },
    {
      "cell_type": "code",
      "source": [
        "nombre_del_grupo_etnico = data.nombre_del_grupo_etnico.unique()"
      ],
      "metadata": {
        "id": "gXubrGtGdqRS"
      },
      "execution_count": null,
      "outputs": []
    },
    {
      "cell_type": "code",
      "source": [
        "nombre_del_grupo_etnico.sort()"
      ],
      "metadata": {
        "id": "83wfGE1Qdv-o"
      },
      "execution_count": null,
      "outputs": []
    },
    {
      "cell_type": "code",
      "source": [
        "nombre_del_grupo_etnico"
      ],
      "metadata": {
        "colab": {
          "base_uri": "https://localhost:8080/"
        },
        "id": "cKRCEe7Hdyou",
        "outputId": "1989e9d7-e48b-4fca-cff3-2ec4bed528a5"
      },
      "execution_count": null,
      "outputs": [
        {
          "output_type": "execute_result",
          "data": {
            "text/plain": [
              "array([\"'CHAPARRAL\", '1', '13 DE MAYO', ..., 'ZENU',\n",
              "       'ZENU DE MEMBRILLAL -CAIZEM-', 'ZIORA AMENA KM 7'], dtype=object)"
            ]
          },
          "metadata": {},
          "execution_count": 78
        }
      ]
    },
    {
      "cell_type": "markdown",
      "source": [
        "Se revisa el archivo .txt y al tener tantos dados, se hace muy lento el proceso de limpieza de datos mal escritos porque presenta un alto grado de indices"
      ],
      "metadata": {
        "id": "4pjCl2eKeQ3k"
      }
    },
    {
      "cell_type": "code",
      "source": [
        "## Guardar nombre_del_grupo_etnico en archivo .txt\n",
        "with open('nombre_del_grupo_etnico.txt', 'w') as f:\n",
        "    for item in nombre_del_grupo_etnico:\n",
        "        f.write(\"%s\\n\" % item)"
      ],
      "metadata": {
        "id": "5SAPS1CGd1xv"
      },
      "execution_count": null,
      "outputs": []
    },
    {
      "cell_type": "markdown",
      "source": [
        "###Elimina las siguientes variables del DataFrame utilizando la función 'Del': 'Código_DIVIPOLA, Código_país, Código_departamento' y crea una copia del DataFrame. (5 puntos)."
      ],
      "metadata": {
        "id": "FlOysno5JPZo"
      }
    },
    {
      "cell_type": "code",
      "source": [
        "#Elimina las siguientes variables del DataFrame utilizando la función 'Del':\n",
        "#'Código_DIVIPOLA, Código_país, Código_departamento' y crea una copia del DataFrame. (5 puntos).\n",
        "data_copia = data.copy()\n",
        "del data['codigo_divipola_departamento']\n",
        "del data['codigo_divipola_municipio']\n",
        "del data['codigo_iso_de_pais']"
      ],
      "metadata": {
        "id": "AjvceoSXJQHe"
      },
      "execution_count": null,
      "outputs": []
    },
    {
      "cell_type": "code",
      "source": [
        "data.info()"
      ],
      "metadata": {
        "colab": {
          "base_uri": "https://localhost:8080/"
        },
        "id": "ecimBOFyggOt",
        "outputId": "2d4e65c4-c4d7-4015-dfe8-64d767e1bc4c"
      },
      "execution_count": null,
      "outputs": [
        {
          "output_type": "stream",
          "name": "stdout",
          "text": [
            "<class 'pandas.core.frame.DataFrame'>\n",
            "RangeIndex: 6390971 entries, 0 to 6390970\n",
            "Data columns (total 20 columns):\n",
            " #   Column                       Dtype  \n",
            "---  ------                       -----  \n",
            " 0   fecha_reporte_web            object \n",
            " 1   id_de_caso                   object \n",
            " 2   fecha_de_notificacion        object \n",
            " 3   nombre_departamento          object \n",
            " 4   nombre_municipio             object \n",
            " 5   edad                         int64  \n",
            " 6   unidad_de_medida_de_edad     int64  \n",
            " 7   sexo                         object \n",
            " 8   tipo_de_contagio             object \n",
            " 9   ubicacion_del_caso           object \n",
            " 10  estado                       object \n",
            " 11  nombre_del_pais              object \n",
            " 12  recuperado                   object \n",
            " 13  fecha_de_inicio_de_sintomas  object \n",
            " 14  fecha_de_muerte              object \n",
            " 15  fecha_de_diagnostico         object \n",
            " 16  fecha_de_recuperacion        object \n",
            " 17  tipo_de_recuperacion         object \n",
            " 18  pertenencia_etnica           float64\n",
            " 19  nombre_del_grupo_etnico      object \n",
            "dtypes: float64(1), int64(2), object(17)\n",
            "memory usage: 975.2+ MB\n"
          ]
        }
      ]
    },
    {
      "cell_type": "markdown",
      "source": [
        "###Identifica registros duplicados. (5 puntos)."
      ],
      "metadata": {
        "id": "y_Jf7gLMJRHC"
      }
    },
    {
      "cell_type": "code",
      "source": [
        "# Identifica registros duplicados.\n",
        "data.duplicated().sum()"
      ],
      "metadata": {
        "colab": {
          "base_uri": "https://localhost:8080/"
        },
        "id": "0OoKCmcBJTD2",
        "outputId": "fa20e658-de5a-422c-d72b-bd3d2d914948"
      },
      "execution_count": null,
      "outputs": [
        {
          "output_type": "execute_result",
          "data": {
            "text/plain": [
              "0"
            ]
          },
          "metadata": {},
          "execution_count": 84
        }
      ]
    },
    {
      "cell_type": "markdown",
      "source": [
        "No hay valores duplicados por fila"
      ],
      "metadata": {
        "id": "PfNPZqzkg3ez"
      }
    },
    {
      "cell_type": "markdown",
      "source": [
        "###Identifica valores atípicos. (5 puntos)."
      ],
      "metadata": {
        "id": "SCwHTCtRJTqe"
      }
    },
    {
      "cell_type": "code",
      "source": [
        "plt.boxplot(data['edad'])\n",
        "plt.ylabel('edad')\n",
        "plt.title('Boxplot de Edad')\n",
        "plt.show()"
      ],
      "metadata": {
        "colab": {
          "base_uri": "https://localhost:8080/",
          "height": 452
        },
        "id": "crCdnTzLJWA_",
        "outputId": "3a731902-1d37-4ce2-f71b-5c906082dbdd"
      },
      "execution_count": null,
      "outputs": [
        {
          "output_type": "display_data",
          "data": {
            "text/plain": [
              "<Figure size 640x480 with 1 Axes>"
            ],
            "image/png": "[encoded data removed]"
          },
          "metadata": {}
        }
      ]
    },
    {
      "cell_type": "markdown",
      "source": [
        "###Concluye sobre el resultado de limpieza de datos. (10 puntos)."
      ],
      "metadata": {
        "id": "ZMWRNOo5JWeF"
      }
    },
    {
      "cell_type": "markdown",
      "source": [
        "1. Diversidad en variables categóricas:\n",
        "El análisis de los valores únicos en variables categóricas como Estado, Ubicación del caso, Sexo, Tipo de contagio, Tipo de recuperación, Pertenencia étnica y Nombre del grupo étnico ha permitido obtener una visión comprensiva sobre la diversidad de los datos. Este examen preliminar es clave para comprender la distribución de los casos y resaltar patrones que serán fundamentales al momento de seleccionar variables relevantes para análisis futuros. Al observar las frecuencias dentro de cada categoría, podemos ajustar nuestras estrategias analíticas para enfocarnos en los factores que podrían tener un mayor impacto en los resultados.\n",
        "\n",
        "2. Detección de valores atípicos en Edad:\n",
        "La identificación de valores atípicos en la variable Edad ha revelado la presencia de extremos que podrían distorsionar los resultados si no se consideran adecuadamente. Al aislar estos outliers, es posible realizar un análisis más robusto y confiable, lo que mejora la precisión de las conclusiones sobre la distribución etaria de los casos. La correcta gestión de estos valores extremos será crucial en futuras fases del estudio, particularmente al modelar tendencias y comportamientos dentro del grupo analizado.\n",
        "\n",
        "3. Distribución geográfica y características de la población:\n",
        "El análisis exploratorio ha evidenciado una distribución desigual de los casos según el Estado, con una mayor concentración en áreas urbanas. Además, los outliers detectados en la variable Edad, en su mayoría pertenecientes a pacientes geriátricos, sugieren la necesidad de una atención especial en este subgrupo poblacional. La ausencia de duplicados en el conjunto de datos asegura que las observaciones son únicas, fortaleciendo la fiabilidad y consistencia de los resultados. Estos hallazgos iniciales subrayan la importancia de realizar análisis más detallados para desentrañar las causas subyacentes a las variaciones observadas, así como para identificar patrones específicos que podrían influir en las políticas de salud y estrategias de intervención."
      ],
      "metadata": {
        "id": "AKKUQx4SEf3S"
      }
    },
    {
      "cell_type": "markdown",
      "source": [
        "##Ejercicio 2. Codificación y decodificación de datos"
      ],
      "metadata": {
        "id": "p3JplBoIJYwa"
      }
    },
    {
      "cell_type": "markdown",
      "source": [
        "###Realiza una decodificación efectiva a las variables de fecha. (30 puntos)."
      ],
      "metadata": {
        "id": "Kwg6nVg2Jet9"
      }
    },
    {
      "cell_type": "code",
      "source": [
        "data.info()"
      ],
      "metadata": {
        "colab": {
          "base_uri": "https://localhost:8080/"
        },
        "id": "ja66IwOAjGd5",
        "outputId": "ebe4b806-7103-415a-98d7-856faa57b3d5"
      },
      "execution_count": null,
      "outputs": [
        {
          "output_type": "stream",
          "name": "stdout",
          "text": [
            "<class 'pandas.core.frame.DataFrame'>\n",
            "RangeIndex: 6390971 entries, 0 to 6390970\n",
            "Data columns (total 20 columns):\n",
            " #   Column                       Dtype  \n",
            "---  ------                       -----  \n",
            " 0   fecha_reporte_web            object \n",
            " 1   id_de_caso                   object \n",
            " 2   fecha_de_notificacion        object \n",
            " 3   nombre_departamento          object \n",
            " 4   nombre_municipio             object \n",
            " 5   edad                         int64  \n",
            " 6   unidad_de_medida_de_edad     int64  \n",
            " 7   sexo                         object \n",
            " 8   tipo_de_contagio             object \n",
            " 9   ubicacion_del_caso           object \n",
            " 10  estado                       object \n",
            " 11  nombre_del_pais              object \n",
            " 12  recuperado                   object \n",
            " 13  fecha_de_inicio_de_sintomas  object \n",
            " 14  fecha_de_muerte              object \n",
            " 15  fecha_de_diagnostico         object \n",
            " 16  fecha_de_recuperacion        object \n",
            " 17  tipo_de_recuperacion         object \n",
            " 18  pertenencia_etnica           float64\n",
            " 19  nombre_del_grupo_etnico      object \n",
            "dtypes: float64(1), int64(2), object(17)\n",
            "memory usage: 975.2+ MB\n"
          ]
        }
      ]
    },
    {
      "cell_type": "code",
      "source": [
        "print(data.fecha_reporte_web.isnull().sum())\n",
        "print(data.fecha_de_notificacion.isnull().sum())\n",
        "print(data.fecha_de_inicio_de_sintomas.isnull().sum())\n",
        "print(data.fecha_de_muerte.isnull().sum())\n",
        "print(data.fecha_de_diagnostico.isnull().sum())\n",
        "print(data.fecha_de_recuperacion.isnull().sum())"
      ],
      "metadata": {
        "colab": {
          "base_uri": "https://localhost:8080/"
        },
        "id": "2yP4rlEwjy86",
        "outputId": "665577b4-9679-4667-94b0-b7d2a90f210b"
      },
      "execution_count": null,
      "outputs": [
        {
          "output_type": "stream",
          "name": "stdout",
          "text": [
            "0\n",
            "0\n",
            "505384\n",
            "6206578\n",
            "2755\n",
            "182324\n"
          ]
        }
      ]
    },
    {
      "cell_type": "code",
      "source": [
        "print(pd.to_datetime(data['fecha_de_inicio_de_sintomas']).isnull().sum())\n",
        "print(pd.to_datetime(data['fecha_de_muerte']).isnull().sum())\n",
        "print(pd.to_datetime(data['fecha_de_diagnostico']).isnull().sum())\n",
        "print(pd.to_datetime(data['fecha_de_recuperacion']).isnull().sum())"
      ],
      "metadata": {
        "colab": {
          "base_uri": "https://localhost:8080/"
        },
        "id": "ZSfrHo4wkagI",
        "outputId": "dd9ce315-eecd-4173-f307-595cb44ff352"
      },
      "execution_count": null,
      "outputs": [
        {
          "output_type": "stream",
          "name": "stdout",
          "text": [
            "505384\n",
            "6206578\n",
            "2755\n",
            "182324\n"
          ]
        }
      ]
    },
    {
      "cell_type": "code",
      "source": [
        "data['fecha_reporte_web'] = pd.to_datetime(data['fecha_reporte_web'])\n",
        "data['fecha_de_notificacion'] = pd.to_datetime(data['fecha_de_notificacion'])\n",
        "data['fecha_de_inicio_de_sintomas'] = pd.to_datetime(data['fecha_de_inicio_de_sintomas'])\n",
        "data['fecha_de_muerte'] = pd.to_datetime(data['fecha_de_muerte'])\n",
        "data['fecha_de_diagnostico'] = pd.to_datetime(data['fecha_de_diagnostico'])\n",
        "data['fecha_de_recuperacion'] = pd.to_datetime(data['fecha_de_recuperacion'])\n"
      ],
      "metadata": {
        "id": "DLR9DONdJYS-"
      },
      "execution_count": null,
      "outputs": []
    },
    {
      "cell_type": "markdown",
      "source": [
        "##Ejercicio 3. Procesamiento de datos"
      ],
      "metadata": {
        "id": "1jwhU7YIJhqb"
      }
    },
    {
      "cell_type": "markdown",
      "source": [
        "### ¿Cuántos fallecidos hay en Colombia mayores de 60 años? (5 puntos)."
      ],
      "metadata": {
        "id": "WTTSnmfHJlfd"
      }
    },
    {
      "cell_type": "code",
      "source": [
        "fallecidos_mayores_60 = data[(data.estado == 'FALLECIDO') & (data.edad > 60)]"
      ],
      "metadata": {
        "id": "0qq5oZUjJlI-"
      },
      "execution_count": null,
      "outputs": []
    },
    {
      "cell_type": "code",
      "source": [
        "fallecidos_mayores_60.head()"
      ],
      "metadata": {
        "colab": {
          "base_uri": "https://localhost:8080/",
          "height": 313
        },
        "id": "GRuz5LQalbmV",
        "outputId": "f268a311-47ea-431f-92ce-f6c3224ee5ce"
      },
      "execution_count": null,
      "outputs": [
        {
          "output_type": "execute_result",
          "data": {
            "text/plain": [
              "   fecha_reporte_web id_de_caso fecha_de_notificacion nombre_departamento  \\\n",
              "3         2020-12-24  1,556,982            2020-12-22               VALLE   \n",
              "7         2020-12-24  1,556,986            2020-12-18               VALLE   \n",
              "19        2020-11-08  1,137,434            2020-11-05              BOGOTA   \n",
              "25        2020-11-08  1,137,440            2020-11-03             QUINDIO   \n",
              "28        2020-11-08  1,137,443            2020-11-04              BOGOTA   \n",
              "\n",
              "   nombre_municipio  edad  unidad_de_medida_de_edad sexo tipo_de_contagio  \\\n",
              "3              CALI    74                         1    F      COMUNITARIA   \n",
              "7              CALI    66                         1    F      COMUNITARIA   \n",
              "19           BOGOTA    81                         1    F      RELACIONADO   \n",
              "25          ARMENIA    85                         1    F      COMUNITARIA   \n",
              "28           BOGOTA    78                         1    M      COMUNITARIA   \n",
              "\n",
              "   ubicacion_del_caso     estado nombre_del_pais recuperado  \\\n",
              "3           Fallecido  FALLECIDO  NO ESTABLECIDO  Fallecido   \n",
              "7           Fallecido  FALLECIDO  NO ESTABLECIDO  Fallecido   \n",
              "19          Fallecido  FALLECIDO  NO ESTABLECIDO  Fallecido   \n",
              "25          Fallecido  FALLECIDO  NO ESTABLECIDO  Fallecido   \n",
              "28          Fallecido  FALLECIDO  NO ESTABLECIDO  Fallecido   \n",
              "\n",
              "   fecha_de_inicio_de_sintomas fecha_de_muerte fecha_de_diagnostico  \\\n",
              "3                   2020-12-17      2020-12-30           2020-12-23   \n",
              "7                   2020-12-11      2020-12-26           2020-12-22   \n",
              "19                  2020-10-31      2020-11-11           2020-11-07   \n",
              "25                  2020-10-31      2020-11-12           2020-10-31   \n",
              "28                  2020-10-31      2020-11-16           2020-11-07   \n",
              "\n",
              "   fecha_de_recuperacion tipo_de_recuperacion  pertenencia_etnica  \\\n",
              "3                    NaT       NO ESTABLECIDO                 6.0   \n",
              "7                    NaT       NO ESTABLECIDO                 6.0   \n",
              "19                   NaT       NO ESTABLECIDO                 6.0   \n",
              "25                   NaT       NO ESTABLECIDO                 6.0   \n",
              "28                   NaT       NO ESTABLECIDO                 6.0   \n",
              "\n",
              "   nombre_del_grupo_etnico  \n",
              "3           NO ESTABLECIDO  \n",
              "7           NO ESTABLECIDO  \n",
              "19          NO ESTABLECIDO  \n",
              "25          NO ESTABLECIDO  \n",
              "28          NO ESTABLECIDO  "
            ],
            "text/html": [
              "\n",
              "  <div id=\"df-d123d1d1-e2a2-4efb-9235-6fdb0518b670\" class=\"colab-df-container\">\n",
              "    <div>\n",
              "<style scoped>\n",
              "    .dataframe tbody tr th:only-of-type {\n",
              "        vertical-align: middle;\n",
              "    }\n",
              "\n",
              "    .dataframe tbody tr th {\n",
              "        vertical-align: top;\n",
              "    }\n",
              "\n",
              "    .dataframe thead th {\n",
              "        text-align: right;\n",
              "    }\n",
              "</style>\n",
              "<table border=\"1\" class=\"dataframe\">\n",
              "  <thead>\n",
              "    <tr style=\"text-align: right;\">\n",
              "      <th></th>\n",
              "      <th>fecha_reporte_web</th>\n",
              "      <th>id_de_caso</th>\n",
              "      <th>fecha_de_notificacion</th>\n",
              "      <th>nombre_departamento</th>\n",
              "      <th>nombre_municipio</th>\n",
              "      <th>edad</th>\n",
              "      <th>unidad_de_medida_de_edad</th>\n",
              "      <th>sexo</th>\n",
              "      <th>tipo_de_contagio</th>\n",
              "      <th>ubicacion_del_caso</th>\n",
              "      <th>estado</th>\n",
              "      <th>nombre_del_pais</th>\n",
              "      <th>recuperado</th>\n",
              "      <th>fecha_de_inicio_de_sintomas</th>\n",
              "      <th>fecha_de_muerte</th>\n",
              "      <th>fecha_de_diagnostico</th>\n",
              "      <th>fecha_de_recuperacion</th>\n",
              "      <th>tipo_de_recuperacion</th>\n",
              "      <th>pertenencia_etnica</th>\n",
              "      <th>nombre_del_grupo_etnico</th>\n",
              "    </tr>\n",
              "  </thead>\n",
              "  <tbody>\n",
              "    <tr>\n",
              "      <th>3</th>\n",
              "      <td>2020-12-24</td>\n",
              "      <td>1,556,982</td>\n",
              "      <td>2020-12-22</td>\n",
              "      <td>VALLE</td>\n",
              "      <td>CALI</td>\n",
              "      <td>74</td>\n",
              "      <td>1</td>\n",
              "      <td>F</td>\n",
              "      <td>COMUNITARIA</td>\n",
              "      <td>Fallecido</td>\n",
              "      <td>FALLECIDO</td>\n",
              "      <td>NO ESTABLECIDO</td>\n",
              "      <td>Fallecido</td>\n",
              "      <td>2020-12-17</td>\n",
              "      <td>2020-12-30</td>\n",
              "      <td>2020-12-23</td>\n",
              "      <td>NaT</td>\n",
              "      <td>NO ESTABLECIDO</td>\n",
              "      <td>6.0</td>\n",
              "      <td>NO ESTABLECIDO</td>\n",
              "    </tr>\n",
              "    <tr>\n",
              "      <th>7</th>\n",
              "      <td>2020-12-24</td>\n",
              "      <td>1,556,986</td>\n",
              "      <td>2020-12-18</td>\n",
              "      <td>VALLE</td>\n",
              "      <td>CALI</td>\n",
              "      <td>66</td>\n",
              "      <td>1</td>\n",
              "      <td>F</td>\n",
              "      <td>COMUNITARIA</td>\n",
              "      <td>Fallecido</td>\n",
              "      <td>FALLECIDO</td>\n",
              "      <td>NO ESTABLECIDO</td>\n",
              "      <td>Fallecido</td>\n",
              "      <td>2020-12-11</td>\n",
              "      <td>2020-12-26</td>\n",
              "      <td>2020-12-22</td>\n",
              "      <td>NaT</td>\n",
              "      <td>NO ESTABLECIDO</td>\n",
              "      <td>6.0</td>\n",
              "      <td>NO ESTABLECIDO</td>\n",
              "    </tr>\n",
              "    <tr>\n",
              "      <th>19</th>\n",
              "      <td>2020-11-08</td>\n",
              "      <td>1,137,434</td>\n",
              "      <td>2020-11-05</td>\n",
              "      <td>BOGOTA</td>\n",
              "      <td>BOGOTA</td>\n",
              "      <td>81</td>\n",
              "      <td>1</td>\n",
              "      <td>F</td>\n",
              "      <td>RELACIONADO</td>\n",
              "      <td>Fallecido</td>\n",
              "      <td>FALLECIDO</td>\n",
              "      <td>NO ESTABLECIDO</td>\n",
              "      <td>Fallecido</td>\n",
              "      <td>2020-10-31</td>\n",
              "      <td>2020-11-11</td>\n",
              "      <td>2020-11-07</td>\n",
              "      <td>NaT</td>\n",
              "      <td>NO ESTABLECIDO</td>\n",
              "      <td>6.0</td>\n",
              "      <td>NO ESTABLECIDO</td>\n",
              "    </tr>\n",
              "    <tr>\n",
              "      <th>25</th>\n",
              "      <td>2020-11-08</td>\n",
              "      <td>1,137,440</td>\n",
              "      <td>2020-11-03</td>\n",
              "      <td>QUINDIO</td>\n",
              "      <td>ARMENIA</td>\n",
              "      <td>85</td>\n",
              "      <td>1</td>\n",
              "      <td>F</td>\n",
              "      <td>COMUNITARIA</td>\n",
              "      <td>Fallecido</td>\n",
              "      <td>FALLECIDO</td>\n",
              "      <td>NO ESTABLECIDO</td>\n",
              "      <td>Fallecido</td>\n",
              "      <td>2020-10-31</td>\n",
              "      <td>2020-11-12</td>\n",
              "      <td>2020-10-31</td>\n",
              "      <td>NaT</td>\n",
              "      <td>NO ESTABLECIDO</td>\n",
              "      <td>6.0</td>\n",
              "      <td>NO ESTABLECIDO</td>\n",
              "    </tr>\n",
              "    <tr>\n",
              "      <th>28</th>\n",
              "      <td>2020-11-08</td>\n",
              "      <td>1,137,443</td>\n",
              "      <td>2020-11-04</td>\n",
              "      <td>BOGOTA</td>\n",
              "      <td>BOGOTA</td>\n",
              "      <td>78</td>\n",
              "      <td>1</td>\n",
              "      <td>M</td>\n",
              "      <td>COMUNITARIA</td>\n",
              "      <td>Fallecido</td>\n",
              "      <td>FALLECIDO</td>\n",
              "      <td>NO ESTABLECIDO</td>\n",
              "      <td>Fallecido</td>\n",
              "      <td>2020-10-31</td>\n",
              "      <td>2020-11-16</td>\n",
              "      <td>2020-11-07</td>\n",
              "      <td>NaT</td>\n",
              "      <td>NO ESTABLECIDO</td>\n",
              "      <td>6.0</td>\n",
              "      <td>NO ESTABLECIDO</td>\n",
              "    </tr>\n",
              "  </tbody>\n",
              "</table>\n",
              "</div>\n",
              "    <div class=\"colab-df-buttons\">\n",
              "\n",
              "  <div class=\"colab-df-container\">\n",
              "    <button class=\"colab-df-convert\" onclick=\"convertToInteractive('df-d123d1d1-e2a2-4efb-9235-6fdb0518b670')\"\n",
              "            title=\"Convert this dataframe to an interactive table.\"\n",
              "            style=\"display:none;\">\n",
              "\n",
              "  <svg xmlns=\"http://www.w3.org/2000/svg\" height=\"24px\" viewBox=\"0 -960 960 960\">\n",
              "    <path d=\"M120-120v-720h720v720H120Zm60-500h600v-160H180v160Zm220 220h160v-160H400v160Zm0 220h160v-160H400v160ZM180-400h160v-160H180v160Zm440 0h160v-160H620v160ZM180-180h160v-160H180v160Zm440 0h160v-160H620v160Z\"/>\n",
              "  </svg>\n",
              "    </button>\n",
              "\n",
              "  <style>\n",
              "    .colab-df-container {\n",
              "      display:flex;\n",
              "      gap: 12px;\n",
              "    }\n",
              "\n",
              "    .colab-df-convert {\n",
              "      background-color: #E8F0FE;\n",
              "      border: none;\n",
              "      border-radius: 50%;\n",
              "      cursor: pointer;\n",
              "      display: none;\n",
              "      fill: #1967D2;\n",
              "      height: 32px;\n",
              "      padding: 0 0 0 0;\n",
              "      width: 32px;\n",
              "    }\n",
              "\n",
              "    .colab-df-convert:hover {\n",
              "      background-color: #E2EBFA;\n",
              "      box-shadow: 0px 1px 2px rgba(60, 64, 67, 0.3), 0px 1px 3px 1px rgba(60, 64, 67, 0.15);\n",
              "      fill: #174EA6;\n",
              "    }\n",
              "\n",
              "    .colab-df-buttons div {\n",
              "      margin-bottom: 4px;\n",
              "    }\n",
              "\n",
              "    [theme=dark] .colab-df-convert {\n",
              "      background-color: #3B4455;\n",
              "      fill: #D2E3FC;\n",
              "    }\n",
              "\n",
              "    [theme=dark] .colab-df-convert:hover {\n",
              "      background-color: #434B5C;\n",
              "      box-shadow: 0px 1px 3px 1px rgba(0, 0, 0, 0.15);\n",
              "      filter: drop-shadow(0px 1px 2px rgba(0, 0, 0, 0.3));\n",
              "      fill: #FFFFFF;\n",
              "    }\n",
              "  </style>\n",
              "\n",
              "    <script>\n",
              "      const buttonEl =\n",
              "        document.querySelector('#df-d123d1d1-e2a2-4efb-9235-6fdb0518b670 button.colab-df-convert');\n",
              "      buttonEl.style.display =\n",
              "        google.colab.kernel.accessAllowed ? 'block' : 'none';\n",
              "\n",
              "      async function convertToInteractive(key) {\n",
              "        const element = document.querySelector('#df-d123d1d1-e2a2-4efb-9235-6fdb0518b670');\n",
              "        const dataTable =\n",
              "          await google.colab.kernel.invokeFunction('convertToInteractive',\n",
              "                                                    [key], {});\n",
              "        if (!dataTable) return;\n",
              "\n",
              "        const docLinkHtml = 'Like what you see? Visit the ' +\n",
              "          '<a target=\"_blank\" href=https://colab.research.google.com/notebooks/data_table.ipynb>data table notebook</a>'\n",
              "          + ' to learn more about interactive tables.';\n",
              "        element.innerHTML = '';\n",
              "        dataTable['output_type'] = 'display_data';\n",
              "        await google.colab.output.renderOutput(dataTable, element);\n",
              "        const docLink = document.createElement('div');\n",
              "        docLink.innerHTML = docLinkHtml;\n",
              "        element.appendChild(docLink);\n",
              "      }\n",
              "    </script>\n",
              "  </div>\n",
              "\n",
              "\n",
              "<div id=\"df-479d12ef-dff7-44c6-a7e4-f206eda4e2e7\">\n",
              "  <button class=\"colab-df-quickchart\" onclick=\"quickchart('df-479d12ef-dff7-44c6-a7e4-f206eda4e2e7')\"\n",
              "            title=\"Suggest charts\"\n",
              "            style=\"display:none;\">\n",
              "\n",
              "<svg xmlns=\"http://www.w3.org/2000/svg\" height=\"24px\"viewBox=\"0 0 24 24\"\n",
              "     width=\"24px\">\n",
              "    <g>\n",
              "        <path d=\"M19 3H5c-1.1 0-2 .9-2 2v14c0 1.1.9 2 2 2h14c1.1 0 2-.9 2-2V5c0-1.1-.9-2-2-2zM9 17H7v-7h2v7zm4 0h-2V7h2v10zm4 0h-2v-4h2v4z\"/>\n",
              "    </g>\n",
              "</svg>\n",
              "  </button>\n",
              "\n",
              "<style>\n",
              "  .colab-df-quickchart {\n",
              "      --bg-color: #E8F0FE;\n",
              "      --fill-color: #1967D2;\n",
              "      --hover-bg-color: #E2EBFA;\n",
              "      --hover-fill-color: #174EA6;\n",
              "      --disabled-fill-color: #AAA;\n",
              "      --disabled-bg-color: #DDD;\n",
              "  }\n",
              "\n",
              "  [theme=dark] .colab-df-quickchart {\n",
              "      --bg-color: #3B4455;\n",
              "      --fill-color: #D2E3FC;\n",
              "      --hover-bg-color: #434B5C;\n",
              "      --hover-fill-color: #FFFFFF;\n",
              "      --disabled-bg-color: #3B4455;\n",
              "      --disabled-fill-color: #666;\n",
              "  }\n",
              "\n",
              "  .colab-df-quickchart {\n",
              "    background-color: var(--bg-color);\n",
              "    border: none;\n",
              "    border-radius: 50%;\n",
              "    cursor: pointer;\n",
              "    display: none;\n",
              "    fill: var(--fill-color);\n",
              "    height: 32px;\n",
              "    padding: 0;\n",
              "    width: 32px;\n",
              "  }\n",
              "\n",
              "  .colab-df-quickchart:hover {\n",
              "    background-color: var(--hover-bg-color);\n",
              "    box-shadow: 0 1px 2px rgba(60, 64, 67, 0.3), 0 1px 3px 1px rgba(60, 64, 67, 0.15);\n",
              "    fill: var(--button-hover-fill-color);\n",
              "  }\n",
              "\n",
              "  .colab-df-quickchart-complete:disabled,\n",
              "  .colab-df-quickchart-complete:disabled:hover {\n",
              "    background-color: var(--disabled-bg-color);\n",
              "    fill: var(--disabled-fill-color);\n",
              "    box-shadow: none;\n",
              "  }\n",
              "\n",
              "  .colab-df-spinner {\n",
              "    border: 2px solid var(--fill-color);\n",
              "    border-color: transparent;\n",
              "    border-bottom-color: var(--fill-color);\n",
              "    animation:\n",
              "      spin 1s steps(1) infinite;\n",
              "  }\n",
              "\n",
              "  @keyframes spin {\n",
              "    0% {\n",
              "      border-color: transparent;\n",
              "      border-bottom-color: var(--fill-color);\n",
              "      border-left-color: var(--fill-color);\n",
              "    }\n",
              "    20% {\n",
              "      border-color: transparent;\n",
              "      border-left-color: var(--fill-color);\n",
              "      border-top-color: var(--fill-color);\n",
              "    }\n",
              "    30% {\n",
              "      border-color: transparent;\n",
              "      border-left-color: var(--fill-color);\n",
              "      border-top-color: var(--fill-color);\n",
              "      border-right-color: var(--fill-color);\n",
              "    }\n",
              "    40% {\n",
              "      border-color: transparent;\n",
              "      border-right-color: var(--fill-color);\n",
              "      border-top-color: var(--fill-color);\n",
              "    }\n",
              "    60% {\n",
              "      border-color: transparent;\n",
              "      border-right-color: var(--fill-color);\n",
              "    }\n",
              "    80% {\n",
              "      border-color: transparent;\n",
              "      border-right-color: var(--fill-color);\n",
              "      border-bottom-color: var(--fill-color);\n",
              "    }\n",
              "    90% {\n",
              "      border-color: transparent;\n",
              "      border-bottom-color: var(--fill-color);\n",
              "    }\n",
              "  }\n",
              "</style>\n",
              "\n",
              "  <script>\n",
              "    async function quickchart(key) {\n",
              "      const quickchartButtonEl =\n",
              "        document.querySelector('#' + key + ' button');\n",
              "      quickchartButtonEl.disabled = true;  // To prevent multiple clicks.\n",
              "      quickchartButtonEl.classList.add('colab-df-spinner');\n",
              "      try {\n",
              "        const charts = await google.colab.kernel.invokeFunction(\n",
              "            'suggestCharts', [key], {});\n",
              "      } catch (error) {\n",
              "        console.error('Error during call to suggestCharts:', error);\n",
              "      }\n",
              "      quickchartButtonEl.classList.remove('colab-df-spinner');\n",
              "      quickchartButtonEl.classList.add('colab-df-quickchart-complete');\n",
              "    }\n",
              "    (() => {\n",
              "      let quickchartButtonEl =\n",
              "        document.querySelector('#df-479d12ef-dff7-44c6-a7e4-f206eda4e2e7 button');\n",
              "      quickchartButtonEl.style.display =\n",
              "        google.colab.kernel.accessAllowed ? 'block' : 'none';\n",
              "    })();\n",
              "  </script>\n",
              "</div>\n",
              "\n",
              "    </div>\n",
              "  </div>\n"
            ],
            "application/vnd.google.colaboratory.intrinsic+json": {
              "type": "dataframe",
              "variable_name": "fallecidos_mayores_60"
            }
          },
          "metadata": {},
          "execution_count": 98
        }
      ]
    },
    {
      "cell_type": "code",
      "source": [
        "print(f'Hay {fallecidos_mayores_60.shape[0]} fallecidos en Colombia mayores de 60 años')"
      ],
      "metadata": {
        "colab": {
          "base_uri": "https://localhost:8080/"
        },
        "id": "BOPrrQV-lnMo",
        "outputId": "386944e5-7724-432e-cbf1-89d0e8668aea"
      },
      "execution_count": null,
      "outputs": [
        {
          "output_type": "stream",
          "name": "stdout",
          "text": [
            "Hay 102824 fallecidos en Colombia mayores de 60 años\n"
          ]
        }
      ]
    },
    {
      "cell_type": "markdown",
      "source": [
        "###¿Cuántos fallecidos hay en Antioquia mayores de 60 años? (5 puntos)."
      ],
      "metadata": {
        "id": "tUifxZ0-JoZ-"
      }
    },
    {
      "cell_type": "code",
      "source": [
        "data.nombre_departamento.unique()"
      ],
      "metadata": {
        "colab": {
          "base_uri": "https://localhost:8080/"
        },
        "id": "4CZxZOtjl9hS",
        "outputId": "447d6a08-a116-4b56-8679-805bc8ff346e"
      },
      "execution_count": null,
      "outputs": [
        {
          "output_type": "execute_result",
          "data": {
            "text/plain": [
              "array(['VALLE', 'ANTIOQUIA', 'SANTANDER', 'NORTE SANTANDER', 'CALDAS',\n",
              "       'BOGOTA', 'CUNDINAMARCA', 'CAQUETA', 'QUINDIO', 'RISARALDA',\n",
              "       'CASANARE', 'NARIÑO', 'HUILA', 'CESAR', 'META', 'STA MARTA D.E.',\n",
              "       'TOLIMA', 'CAUCA', 'BARRANQUILLA', 'SUCRE', 'CARTAGENA', 'BOLIVAR',\n",
              "       'GUAJIRA', 'ATLANTICO', 'CORDOBA', 'MAGDALENA', 'ARAUCA', 'BOYACA',\n",
              "       'SAN ANDRES', 'CHOCO', 'GUAVIARE', 'VICHADA', 'PUTUMAYO', 'VAUPES',\n",
              "       'GUAINIA', 'AMAZONAS', 'Caldas', 'Tolima', 'Santander',\n",
              "       'Cundinamarca', 'Putumayo'], dtype=object)"
            ]
          },
          "metadata": {},
          "execution_count": 101
        }
      ]
    },
    {
      "cell_type": "code",
      "source": [
        "fallecidos_antioquia_mayores_60 = data[(data.estado == 'FALLECIDO') & (data.edad > 60) & (data.nombre_departamento == 'ANTIOQUIA')]\n"
      ],
      "metadata": {
        "id": "FX_z-zWqJqeJ"
      },
      "execution_count": null,
      "outputs": []
    },
    {
      "cell_type": "code",
      "source": [
        "print(f'Hay {fallecidos_antioquia_mayores_60.shape[0]} fallecidos en Antioquia mayores de 60 años')"
      ],
      "metadata": {
        "colab": {
          "base_uri": "https://localhost:8080/"
        },
        "id": "578vBZWAmKTS",
        "outputId": "0000ddce-cfe3-49c3-f928-cb8f15f7ade0"
      },
      "execution_count": null,
      "outputs": [
        {
          "output_type": "stream",
          "name": "stdout",
          "text": [
            "Hay 13827 fallecidos en Antioquia mayores de 60 años\n"
          ]
        }
      ]
    },
    {
      "cell_type": "markdown",
      "source": [
        "###¿Cuántos fallecidos hay en Medellín mayores de 60 años? (5 puntos)."
      ],
      "metadata": {
        "id": "A4RjPD4hJrHs"
      }
    },
    {
      "cell_type": "code",
      "source": [
        "data.nombre_municipio.fillna('NO ESTABLECIDO', inplace=True)"
      ],
      "metadata": {
        "id": "tZ4z9IQ4nw_l"
      },
      "execution_count": null,
      "outputs": []
    },
    {
      "cell_type": "code",
      "source": [
        "data.nombre_municipio = data.nombre_municipio.str.upper()"
      ],
      "metadata": {
        "id": "LqGKs1Cpn5VB"
      },
      "execution_count": null,
      "outputs": []
    },
    {
      "cell_type": "code",
      "source": [
        "fallecidos_medellin_mayores_60 = data[(data.estado == 'FALLECIDO') & (data.edad > 60) & (data.nombre_municipio == 'MEDELLIN')]"
      ],
      "metadata": {
        "id": "hnjv5I_VJsrA"
      },
      "execution_count": null,
      "outputs": []
    },
    {
      "cell_type": "code",
      "source": [
        "print(f'Hay {fallecidos_medellin_mayores_60.shape[0]} fallecidos en Medellín mayores de 60 años')"
      ],
      "metadata": {
        "colab": {
          "base_uri": "https://localhost:8080/"
        },
        "id": "mTmxJcqjoBR-",
        "outputId": "fa18fb8f-32eb-4011-d91b-fdab9c3748d3"
      },
      "execution_count": null,
      "outputs": [
        {
          "output_type": "stream",
          "name": "stdout",
          "text": [
            "Hay 7933 fallecidos en Medellín mayores de 60 años\n"
          ]
        }
      ]
    },
    {
      "cell_type": "markdown",
      "source": [
        "###Diseña una fórmula para calcular la tasa de letalidad del Covid-19 en Colombia, Antioquia y Medellín. (10 puntos)."
      ],
      "metadata": {
        "id": "C4jmrSlsJtIY"
      }
    },
    {
      "cell_type": "code",
      "source": [
        "total_casos_colombia = len(data)\n",
        "total_casos_antioquia = len(data[data.nombre_departamento == 'ANTIOQUIA'])\n",
        "total_casos_medellin = len(data[data.nombre_municipio == 'MEDELLIN'])"
      ],
      "metadata": {
        "id": "6On3pNx6Ju8K"
      },
      "execution_count": null,
      "outputs": []
    },
    {
      "cell_type": "code",
      "source": [
        "fallecidos_colombia = len(data[data.estado == 'FALLECIDO'])\n",
        "fallecidos_antioquia = len(data[(data.estado == 'FALLECIDO') & (data.nombre_departamento == 'ANTIOQUIA')])\n",
        "fallecidos_medellin = len(data[(data.estado == 'FALLECIDO') & (data.nombre_municipio == 'MEDELLIN')])"
      ],
      "metadata": {
        "id": "I3hzGBcNpYel"
      },
      "execution_count": null,
      "outputs": []
    },
    {
      "cell_type": "code",
      "source": [
        "def tasa_letalidad(total_casos, fallecidos):\n",
        "    return (fallecidos / total_casos) * 100"
      ],
      "metadata": {
        "id": "EkB4qZQepsY7"
      },
      "execution_count": null,
      "outputs": []
    },
    {
      "cell_type": "code",
      "source": [
        "print(f'La tasa de letalidad en Colombia es de {tasa_letalidad(total_casos_colombia, fallecidos_colombia):.2f}%')\n",
        "print(f'La tasa de letalidad en Antioquia es de {tasa_letalidad(total_casos_antioquia, fallecidos_antioquia):.2f}%')\n",
        "print(f'La tasa de letalidad en Medellín es de {tasa_letalidad(total_casos_medellin, fallecidos_medellin):.2f}%')"
      ],
      "metadata": {
        "colab": {
          "base_uri": "https://localhost:8080/"
        },
        "id": "csmxX2Yjp4jJ",
        "outputId": "0a0cd6c1-c519-40b4-d25d-5930d5ee39e4"
      },
      "execution_count": null,
      "outputs": [
        {
          "output_type": "stream",
          "name": "stdout",
          "text": [
            "La tasa de letalidad en Colombia es de 2.24%\n",
            "La tasa de letalidad en Antioquia es de 1.96%\n",
            "La tasa de letalidad en Medellín es de 1.88%\n"
          ]
        }
      ]
    },
    {
      "cell_type": "markdown",
      "source": [
        "###¿Cuáles son los retrasos promedio entre las fechas? (5 puntos)."
      ],
      "metadata": {
        "id": "MAL_9PxJJvX5"
      }
    },
    {
      "cell_type": "code",
      "source": [
        "diferencia_dias = data.fecha_de_diagnostico - data.fecha_de_notificacion\n",
        "print(f'El retraso promedio entre las fechas es de {diferencia_dias.mean()}')"
      ],
      "metadata": {
        "colab": {
          "base_uri": "https://localhost:8080/"
        },
        "id": "TUzYLhOzJxI8",
        "outputId": "9ba0bd8f-6204-40a6-d46a-58a4f4d03a49"
      },
      "execution_count": null,
      "outputs": [
        {
          "output_type": "stream",
          "name": "stdout",
          "text": [
            "El retraso promedio entre las fechas es de 4 days 01:36:59.454570885\n"
          ]
        }
      ]
    }
  ]
}